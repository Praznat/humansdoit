{
 "cells": [
  {
   "cell_type": "code",
   "execution_count": 97,
   "metadata": {},
   "outputs": [],
   "source": [
    "import numpy as np\n",
    "import pandas as pd\n",
    "from itertools import combinations\n",
    "from scipy.stats import kendalltau\n",
    "from matplotlib import pyplot as plt\n",
    "import pystan"
   ]
  },
  {
   "cell_type": "code",
   "execution_count": 98,
   "metadata": {},
   "outputs": [],
   "source": [
    "def intersectscore(r1, r2):\n",
    "    s1 = set(r1)\n",
    "    s2 = set(r2)\n",
    "    return len(s1.intersection(s2)) / len(s1.union(s2))\n",
    "\n",
    "def kendaltauscore(r1, r2):\n",
    "    rfact = pd.factorize(list(set(r1).union(set(r2))))\n",
    "    rfact = zip(rfact[1], rfact[0])\n",
    "    rfact = dict(rfact)\n",
    "    depth = len(rfact) + 50\n",
    "    r1v = len(rfact) * np.ones(depth)\n",
    "    r2v = len(rfact) * np.ones(depth)\n",
    "    for i in range(10):\n",
    "        r1v[rfact[r1[i]]] = i\n",
    "        r2v[rfact[r2[i]]] = i\n",
    "    r1v = r1v.astype(int)\n",
    "    r2v = r2v.astype(int)\n",
    "    return kendalltau(r1v, r2v).correlation"
   ]
  },
  {
   "cell_type": "code",
   "execution_count": 99,
   "metadata": {},
   "outputs": [],
   "source": [
    "df = pd.read_csv(\"qrels.all.txt\", sep=\" \", error_bad_lines=False,\n",
    "                names=[\"topic_item\", \"na\", \"doc\", \"gold\"])"
   ]
  },
  {
   "cell_type": "code",
   "execution_count": 100,
   "metadata": {},
   "outputs": [],
   "source": [
    "roundedscoremagnitude = 0.1\n",
    "df.gold = df.gold + np.random.normal(0, roundedscoremagnitude, len(df.gold))"
   ]
  },
  {
   "cell_type": "code",
   "execution_count": 101,
   "metadata": {},
   "outputs": [],
   "source": [
    "def trunc_docs(df, maxdocs):\n",
    "    result = []\n",
    "    for item in df[\"topic_item\"].unique():\n",
    "        idf = df[df[\"topic_item\"] == item]\n",
    "        udocs = idf[\"doc\"].unique()\n",
    "        chosendocs = np.random.choice(udocs, maxdocs, replace=False) if len(udocs) > maxdocs else udocs\n",
    "        result.append(idf[idf[\"doc\"].isin(chosendocs)])\n",
    "    return pd.concat(result)"
   ]
  },
  {
   "cell_type": "code",
   "execution_count": 102,
   "metadata": {},
   "outputs": [],
   "source": [
    "tdf = trunc_docs(df, 50)"
   ]
  },
  {
   "cell_type": "code",
   "execution_count": 103,
   "metadata": {},
   "outputs": [],
   "source": [
    "def factorize(df, colname):\n",
    "    lookup = pd.factorize(df[colname].unique())\n",
    "    result = pd.Categorical(df[colname]).codes\n",
    "    return result, lookup\n",
    "\n",
    "topic_factors, topic_factor_lookup = factorize(tdf, \"topic_item\")\n",
    "tdf[\"topic_item\"] = topic_factors"
   ]
  },
  {
   "cell_type": "code",
   "execution_count": 104,
   "metadata": {},
   "outputs": [
    {
     "name": "stdout",
     "output_type": "stream",
     "text": [
      "topic_item\n",
      "251    274\n",
      "252    286\n",
      "253    214\n",
      "254    245\n",
      "255    404\n",
      "Name: doc, dtype: int64\n",
      "topic_item\n",
      "0    50\n",
      "1    50\n",
      "2    50\n",
      "3    50\n",
      "4    50\n",
      "Name: doc, dtype: int64\n"
     ]
    }
   ],
   "source": [
    "print(df.groupby(\"topic_item\").doc.nunique()[:5])\n",
    "print(tdf.groupby(\"topic_item\").doc.nunique()[:5])"
   ]
  },
  {
   "cell_type": "code",
   "execution_count": 105,
   "metadata": {},
   "outputs": [
    {
     "name": "stdout",
     "output_type": "stream",
     "text": [
      "{0: 0.2845585240605907, 1: 0.06185586627736752, 2: 0.0015952111831830835, 3: 0.0043663122914465065, 4: 0.01241647753139648, 5: 0.006427171509198969, 6: 0.0006063652311427119, 7: 0.16923730642009127, 8: 0.9865240471572297, 9: 0.01081912648959322, 10: 0.8584545476044748, 11: 0.012899478281009801, 12: 0.33371206902831185, 13: 0.4655256772316571, 14: 0.9310570224409777, 15: 0.12771157525222596, 16: 0.07022341709405497, 17: 0.00432284583536309, 18: 0.649625396823024, 19: 0.47226002710422216, 20: 0.29397862335697905, 21: 0.005725860606382812, 22: 0.8186844177563263, 23: 0.3184800442481293, 24: 0.2561148419612065, 25: 0.03801794188471763, 26: 0.5848207692862483, 27: 0.9578856636038192, 28: 0.8137180823059312, 29: 0.007663922192337463, 30: 0.4936994926841879, 31: 0.0236973258033646, 32: 0.04718225917743851, 33: 0.06542509919555922, 34: 0.23894392093983371, 35: 0.33669787797106077, 36: 0.022668858088174378, 37: 0.1877358818729389, 38: 0.09754943929848517, 39: 0.7549239693824477, 40: 0.3353102004104435, 41: 0.008916912686922025, 42: 0.5068240765124415, 43: 0.4958887875677357, 44: 0.5259971883610775, 45: 4.8608837464087504e-05, 46: 0.12139938032913529, 47: 0.02097348831369967, 48: 0.4078749639477334, 49: 0.11625615009512244}\n",
      "{0: 0.10346857826256681, 1: 0.19311306803119307, 2: 0.1815901395508305, 3: 0.1421498968187245, 4: 0.10442660896360373, 5: 0.14507002725045326, 6: 0.11878312291443383, 7: 0.08182916795484667, 8: 0.11316417618768591, 9: 0.13086322282488352, 10: 0.071986107405245, 11: 0.12860731940257578, 12: 0.11943868173004157, 13: 0.07817733450095066, 14: 0.14071317605152858, 15: 0.1698950101998537, 16: 0.10480015979589449, 17: 0.1413412278935063, 18: 0.11375309351831492, 19: 0.1058087886820416, 20: 0.305334186351255, 21: 0.08358527264106412, 22: 0.10533247167292267, 23: 0.08960180430905111, 24: 0.16995165584651126, 25: 0.16763487995107781, 26: 0.1826683554097213, 27: 0.14365512194628982, 28: 0.1427521541902828, 29: 0.11506570782259298, 30: 0.16144341977416696, 31: 0.18165944069650647, 32: 0.15732381343484558, 33: 0.13075868248636788, 34: 0.0977695745170833, 35: 0.12243292498468253, 36: 0.13130839450668486, 37: 0.12437110491796076, 38: 0.16770343949961466, 39: 0.12871367407260761, 40: 0.12185871104923975, 41: 0.18566272495599992, 42: 0.14447458047225478, 43: 0.14943844061634223, 44: 0.1524779215718651, 45: 0.07043987842321452, 46: 0.16270537206658003, 47: 0.1352227046731968, 48: 0.12660460945542848, 49: 0.15104994634294172}\n"
     ]
    }
   ],
   "source": [
    "def create_item_param_dicts(df, ambiguity_beta_a, ambiguity_beta_b, difficulty_loc, difficulty_scale):\n",
    "    ambiguity_dict = {}\n",
    "    difficulty_dict = {}\n",
    "    for i in df[\"topic_item\"].unique():\n",
    "        ambiguity_dict[i] = np.random.beta(ambiguity_beta_a, ambiguity_beta_b)\n",
    "        difficulty_dict[i] = np.random.lognormal(difficulty_loc, difficulty_scale)\n",
    "    return ambiguity_dict, difficulty_dict\n",
    "\n",
    "ambiguity_dict, difficulty_dict = create_item_param_dicts(tdf, .4, .8, -2, .3)\n",
    "print(ambiguity_dict)\n",
    "print(difficulty_dict)"
   ]
  },
  {
   "cell_type": "code",
   "execution_count": 106,
   "metadata": {},
   "outputs": [
    {
     "data": {
      "text/plain": [
       "array([1.33115670e+00, 1.03883209e-01, 1.07731712e-02, 1.38882829e+01])"
      ]
     },
     "execution_count": 106,
     "metadata": {},
     "output_type": "execute_result"
    }
   ],
   "source": [
    "np.random.normal(0, [1,.1,.1,10], 4)"
   ]
  },
  {
   "cell_type": "code",
   "execution_count": 107,
   "metadata": {},
   "outputs": [],
   "source": [
    "def create_user_data(uid, df, pct_topics, u_err, ambiguity_dict=None, difficulty_dict=None):\n",
    "    items = df.topic_item.unique()\n",
    "    n_items_rated = int(np.round(pct_topics * len(items)))\n",
    "    items_rated = sorted(np.random.choice(items, n_items_rated, replace=False))\n",
    "    rdfs = []\n",
    "    for item in items_rated:\n",
    "        i_ambiguity = 0 if ambiguity_dict is None else ambiguity_dict.get(item)\n",
    "        idf = df[df.topic_item == item]\n",
    "        idflen = len(idf)\n",
    "        ratings = idf.gold + (1 - i_ambiguity) * np.random.normal(0, u_err, idflen)\n",
    "        if difficulty_dict is not None:\n",
    "            i_difficulty = difficulty_dict.get(item)\n",
    "            ratings += i_ambiguity * np.random.normal(0, i_difficulty, idflen)\n",
    "        dfdict = {\n",
    "            \"uid\": [uid] * idflen,\n",
    "            \"topic_item\": [item] * idflen,\n",
    "            \"doc\": idf.doc,\n",
    "            \"ratings\": ratings,\n",
    "            \"gold\": idf.gold\n",
    "        }\n",
    "        rdfs.append(pd.DataFrame(dfdict))\n",
    "    return pd.concat(rdfs)"
   ]
  },
  {
   "cell_type": "code",
   "execution_count": 108,
   "metadata": {},
   "outputs": [],
   "source": [
    "def creat_sim_df(df, n_users, err_rates, pct_topics=.5,):\n",
    "    udatas = []\n",
    "    for i in range(n_users):\n",
    "        udatas.append(create_user_data(i, df, pct_topics, err_rates[i]))\n",
    "    return pd.concat(udatas)\n",
    "\n",
    "def creat_sim_df2(df, n_users1, n_users2, err_rate1=0.1, err_rate2=0.5, pct_topics=.5):\n",
    "    udatas = []\n",
    "    for i in range(n_users1):\n",
    "        udatas.append(create_user_data(i, df, pct_topics, err_rate1))\n",
    "    for i in range(n_users2):\n",
    "        udatas.append(create_user_data(n_users1 + i, df, pct_topics, err_rate2))\n",
    "    return pd.concat(udatas)"
   ]
  },
  {
   "cell_type": "markdown",
   "metadata": {},
   "source": [
    "$$ P(Liu | v_i, e_u) = v_i + N(0, e_u^2) $$\n",
    "$$ P(Diuw | v_i, e_u, e_w) = v_i + N(0, e_u^2) - (v_i + N(0, e_w^2)) $$\n",
    "$$    = N(0, e_u^2 + e_w^2) $$\n",
    "\n",
    "\n",
    "$$ P(Liu | v_i, e_u) = v_i + (1 - a_i) N(0, e_u^2) + a_i N(0, d_i^2) $$\n",
    "$$ P(Diuw | v_i, e_u, e_w) = v_i + N(0, ((1 - a_i) e_u)^2) + N(0, (a_i d_i)^2) - (v_i + N(0, ((1 - a_i) e_w)^2) + N(0, (a_i d_i)^2)) $$\n",
    "$$    = N(0, ((1 - a_i) e_u)^2 + ((1 - a_i) e_w)^2 + 2(a_i d_i)^2) $$\n",
    "$$    = N(0, (1 - a_i)^2 e_u^2 + (1 - a_i)^2 e_w^2 + 2(a_i d_i)^2) $$\n",
    "$$    = N(0, (1 - a_i)^2 (e_u^2 + e_w^2) + 2 a_i^2 d_i^2) $$\n"
   ]
  },
  {
   "cell_type": "code",
   "execution_count": 109,
   "metadata": {},
   "outputs": [],
   "source": [
    "n_users = 20\n",
    "err_rates = np.random.lognormal(-1, .5, n_users) / 2"
   ]
  },
  {
   "cell_type": "code",
   "execution_count": 110,
   "metadata": {},
   "outputs": [
    {
     "data": {
      "text/plain": [
       "array([0.28245248, 0.14298942, 0.25435387, 0.13252564, 0.2369874 ,\n",
       "       0.29262674, 0.13877477, 0.14228868, 0.20166649, 0.10492553,\n",
       "       0.10351185, 0.13809852, 0.26822823, 0.36809454, 0.14330742,\n",
       "       0.29823512, 0.10310931, 0.35564587, 0.09384925, 0.34878349])"
      ]
     },
     "execution_count": 110,
     "metadata": {},
     "output_type": "execute_result"
    }
   ],
   "source": [
    "err_rates"
   ]
  },
  {
   "cell_type": "code",
   "execution_count": 111,
   "metadata": {},
   "outputs": [],
   "source": [
    "sim_df = creat_sim_df(tdf, n_users=n_users, err_rates=err_rates)"
   ]
  },
  {
   "cell_type": "code",
   "execution_count": 112,
   "metadata": {},
   "outputs": [
    {
     "data": {
      "text/html": [
       "<div>\n",
       "<style scoped>\n",
       "    .dataframe tbody tr th:only-of-type {\n",
       "        vertical-align: middle;\n",
       "    }\n",
       "\n",
       "    .dataframe tbody tr th {\n",
       "        vertical-align: top;\n",
       "    }\n",
       "\n",
       "    .dataframe thead th {\n",
       "        text-align: right;\n",
       "    }\n",
       "</style>\n",
       "<table border=\"1\" class=\"dataframe\">\n",
       "  <thead>\n",
       "    <tr style=\"text-align: right;\">\n",
       "      <th></th>\n",
       "      <th>uid</th>\n",
       "      <th>topic_item</th>\n",
       "      <th>doc</th>\n",
       "      <th>ratings</th>\n",
       "      <th>gold</th>\n",
       "    </tr>\n",
       "  </thead>\n",
       "  <tbody>\n",
       "    <tr>\n",
       "      <th>276</th>\n",
       "      <td>0</td>\n",
       "      <td>1</td>\n",
       "      <td>clueweb12-0000wt-01-18481</td>\n",
       "      <td>0.901117</td>\n",
       "      <td>1.015093</td>\n",
       "    </tr>\n",
       "    <tr>\n",
       "      <th>278</th>\n",
       "      <td>0</td>\n",
       "      <td>1</td>\n",
       "      <td>clueweb12-0000wt-01-20053</td>\n",
       "      <td>0.085831</td>\n",
       "      <td>-0.185110</td>\n",
       "    </tr>\n",
       "    <tr>\n",
       "      <th>280</th>\n",
       "      <td>0</td>\n",
       "      <td>1</td>\n",
       "      <td>clueweb12-0007wb-81-24963</td>\n",
       "      <td>-0.429822</td>\n",
       "      <td>-0.074908</td>\n",
       "    </tr>\n",
       "    <tr>\n",
       "      <th>288</th>\n",
       "      <td>0</td>\n",
       "      <td>1</td>\n",
       "      <td>clueweb12-0111wb-51-15488</td>\n",
       "      <td>0.474305</td>\n",
       "      <td>0.164113</td>\n",
       "    </tr>\n",
       "    <tr>\n",
       "      <th>291</th>\n",
       "      <td>0</td>\n",
       "      <td>1</td>\n",
       "      <td>clueweb12-0203wb-68-21691</td>\n",
       "      <td>0.169338</td>\n",
       "      <td>-0.010186</td>\n",
       "    </tr>\n",
       "  </tbody>\n",
       "</table>\n",
       "</div>"
      ],
      "text/plain": [
       "     uid  topic_item                        doc   ratings      gold\n",
       "276    0           1  clueweb12-0000wt-01-18481  0.901117  1.015093\n",
       "278    0           1  clueweb12-0000wt-01-20053  0.085831 -0.185110\n",
       "280    0           1  clueweb12-0007wb-81-24963 -0.429822 -0.074908\n",
       "288    0           1  clueweb12-0111wb-51-15488  0.474305  0.164113\n",
       "291    0           1  clueweb12-0203wb-68-21691  0.169338 -0.010186"
      ]
     },
     "execution_count": 112,
     "metadata": {},
     "output_type": "execute_result"
    }
   ],
   "source": [
    "sim_df.head()"
   ]
  },
  {
   "cell_type": "code",
   "execution_count": null,
   "metadata": {},
   "outputs": [],
   "source": []
  },
  {
   "cell_type": "code",
   "execution_count": 154,
   "metadata": {},
   "outputs": [],
   "source": [
    "def calc_list_similarities(df, similarity_fn, topK=10):\n",
    "    items = []\n",
    "    u1s = []\n",
    "    u2s = []\n",
    "    similarities = []\n",
    "    for item in df[\"topic_item\"].unique():\n",
    "        idf = df[df[\"topic_item\"] == item]\n",
    "        users = idf[\"uid\"].unique()\n",
    "        for u1, u2 in combinations(users, 2):\n",
    "            r1 = list(idf[idf[\"uid\"]==u1].ratings.sort_values(ascending=False)[:topK].index)\n",
    "            r2 = list(idf[idf[\"uid\"]==u2].ratings.sort_values(ascending=False)[:topK].index)\n",
    "            similarity = similarity_fn(r1, r2)\n",
    "            items.append(item)\n",
    "            u1s.append(u1)\n",
    "            u2s.append(u2)\n",
    "            similarities.append(similarity)\n",
    "    return {\n",
    "        \"items\":np.array(items) + 1,\n",
    "        \"u1s\":np.array(u1s) + 1,\n",
    "        \"u2s\":np.array(u2s) + 1,\n",
    "        \"similarities\":similarities\n",
    "    }\n",
    "\n",
    "stan_data = calc_list_similarities(sim_df, intersectscore)"
   ]
  },
  {
   "cell_type": "code",
   "execution_count": 155,
   "metadata": {},
   "outputs": [],
   "source": [
    "stan_data[\"NDATA\"] = len(stan_data[\"similarities\"])\n",
    "stan_data[\"NITEMS\"] = len(sim_df[\"topic_item\"].unique())\n",
    "stan_data[\"NUSERS\"] = len(sim_df[\"uid\"].unique())"
   ]
  },
  {
   "cell_type": "code",
   "execution_count": 156,
   "metadata": {},
   "outputs": [
    {
     "data": {
      "text/html": [
       "<div>\n",
       "<style scoped>\n",
       "    .dataframe tbody tr th:only-of-type {\n",
       "        vertical-align: middle;\n",
       "    }\n",
       "\n",
       "    .dataframe tbody tr th {\n",
       "        vertical-align: top;\n",
       "    }\n",
       "\n",
       "    .dataframe thead th {\n",
       "        text-align: right;\n",
       "    }\n",
       "</style>\n",
       "<table border=\"1\" class=\"dataframe\">\n",
       "  <thead>\n",
       "    <tr style=\"text-align: right;\">\n",
       "      <th></th>\n",
       "      <th>items</th>\n",
       "      <th>u1s</th>\n",
       "      <th>u2s</th>\n",
       "      <th>similarities</th>\n",
       "      <th>NDATA</th>\n",
       "      <th>NITEMS</th>\n",
       "      <th>NUSERS</th>\n",
       "    </tr>\n",
       "  </thead>\n",
       "  <tbody>\n",
       "    <tr>\n",
       "      <th>0</th>\n",
       "      <td>2</td>\n",
       "      <td>1</td>\n",
       "      <td>2</td>\n",
       "      <td>0.333333</td>\n",
       "      <td>2401</td>\n",
       "      <td>50</td>\n",
       "      <td>20</td>\n",
       "    </tr>\n",
       "    <tr>\n",
       "      <th>1</th>\n",
       "      <td>2</td>\n",
       "      <td>1</td>\n",
       "      <td>3</td>\n",
       "      <td>0.333333</td>\n",
       "      <td>2401</td>\n",
       "      <td>50</td>\n",
       "      <td>20</td>\n",
       "    </tr>\n",
       "    <tr>\n",
       "      <th>3</th>\n",
       "      <td>2</td>\n",
       "      <td>1</td>\n",
       "      <td>8</td>\n",
       "      <td>0.333333</td>\n",
       "      <td>2401</td>\n",
       "      <td>50</td>\n",
       "      <td>20</td>\n",
       "    </tr>\n",
       "    <tr>\n",
       "      <th>4</th>\n",
       "      <td>2</td>\n",
       "      <td>1</td>\n",
       "      <td>9</td>\n",
       "      <td>0.333333</td>\n",
       "      <td>2401</td>\n",
       "      <td>50</td>\n",
       "      <td>20</td>\n",
       "    </tr>\n",
       "    <tr>\n",
       "      <th>8</th>\n",
       "      <td>2</td>\n",
       "      <td>1</td>\n",
       "      <td>15</td>\n",
       "      <td>0.333333</td>\n",
       "      <td>2401</td>\n",
       "      <td>50</td>\n",
       "      <td>20</td>\n",
       "    </tr>\n",
       "  </tbody>\n",
       "</table>\n",
       "</div>"
      ],
      "text/plain": [
       "   items  u1s  u2s  similarities  NDATA  NITEMS  NUSERS\n",
       "0      2    1    2      0.333333   2401      50      20\n",
       "1      2    1    3      0.333333   2401      50      20\n",
       "3      2    1    8      0.333333   2401      50      20\n",
       "4      2    1    9      0.333333   2401      50      20\n",
       "8      2    1   15      0.333333   2401      50      20"
      ]
     },
     "execution_count": 156,
     "metadata": {},
     "output_type": "execute_result"
    }
   ],
   "source": [
    "sddf = pd.DataFrame(stan_data)\n",
    "sddf[sddf[\"similarities\"] < 0.4].head()"
   ]
  },
  {
   "cell_type": "code",
   "execution_count": 157,
   "metadata": {},
   "outputs": [],
   "source": [
    "s1 = np.concatenate((sddf.groupby(\"u1s\").sum()[\"similarities\"].values, [0]))\n",
    "s2 = np.concatenate(([0], sddf.groupby(\"u2s\").sum()[\"similarities\"].values))\n",
    "n1 = np.concatenate((sddf.groupby(\"u1s\").count()[\"similarities\"].values, [0]))\n",
    "n2 = np.concatenate(([0], sddf.groupby(\"u2s\").count()[\"similarities\"].values))"
   ]
  },
  {
   "cell_type": "code",
   "execution_count": 158,
   "metadata": {},
   "outputs": [],
   "source": [
    "avg_similarities = (s1 + s2) / (n1 + n2)"
   ]
  },
  {
   "cell_type": "code",
   "execution_count": null,
   "metadata": {},
   "outputs": [],
   "source": []
  },
  {
   "cell_type": "code",
   "execution_count": 121,
   "metadata": {},
   "outputs": [
    {
     "name": "stderr",
     "output_type": "stream",
     "text": [
      "INFO:pystan:COMPILING THE C++ CODE FOR MODEL anon_model_c8d3d71322ef7791c887df0f2a58cf74 NOW.\n"
     ]
    }
   ],
   "source": [
    "stan_model = pystan.StanModel(file=\"similarity.stan\")"
   ]
  },
  {
   "cell_type": "code",
   "execution_count": 162,
   "metadata": {},
   "outputs": [],
   "source": [
    "stan_data[\"c_prior_mu\"] = 2\n",
    "stan_data[\"c_prior_scale\"] = .1\n",
    "opt = stan_model.optimizing(data=stan_data,verbose=True,iter=2000)"
   ]
  },
  {
   "cell_type": "code",
   "execution_count": 163,
   "metadata": {},
   "outputs": [
    {
     "name": "stdout",
     "output_type": "stream",
     "text": [
      "1.9983320166385699 1.9847904200111761\n"
     ]
    }
   ],
   "source": [
    "print(opt[\"c1\"], opt[\"c2\"])"
   ]
  },
  {
   "cell_type": "code",
   "execution_count": 164,
   "metadata": {},
   "outputs": [
    {
     "data": {
      "image/png": "[encoded data removed]",
      "text/plain": [
       "<Figure size 432x288 with 1 Axes>"
      ]
     },
     "metadata": {},
     "output_type": "display_data"
    },
    {
     "name": "stdout",
     "output_type": "stream",
     "text": [
      "[[ 1.         -0.68639145]\n",
      " [-0.68639145  1.        ]]\n"
     ]
    },
    {
     "data": {
      "image/png": "[encoded data removed]",
      "text/plain": [
       "<Figure size 432x288 with 1 Axes>"
      ]
     },
     "metadata": {},
     "output_type": "display_data"
    },
    {
     "name": "stdout",
     "output_type": "stream",
     "text": [
      "[[ 1.        -0.9275431]\n",
      " [-0.9275431  1.       ]]\n"
     ]
    }
   ],
   "source": [
    "plt.scatter(avg_similarities, err_rates)\n",
    "plt.show()\n",
    "print(np.corrcoef(avg_similarities, err_rates))\n",
    "plt.scatter(opt[\"err\"], err_rates)\n",
    "plt.show()\n",
    "print(np.corrcoef(opt[\"err\"], err_rates))"
   ]
  },
  {
   "cell_type": "code",
   "execution_count": 165,
   "metadata": {},
   "outputs": [
    {
     "data": {
      "image/png": "[encoded data removed]",
      "text/plain": [
       "<Figure size 432x288 with 1 Axes>"
      ]
     },
     "metadata": {},
     "output_type": "display_data"
    },
    {
     "data": {
      "image/png": "[encoded data removed]",
      "text/plain": [
       "<Figure size 432x288 with 1 Axes>"
      ]
     },
     "metadata": {},
     "output_type": "display_data"
    }
   ],
   "source": [
    "plt.scatter(opt[\"amb\"], list(ambiguity_dict.values()))\n",
    "plt.show()\n",
    "plt.scatter(opt[\"diff\"], list(difficulty_dict.values()))\n",
    "plt.show()"
   ]
  },
  {
   "cell_type": "code",
   "execution_count": 133,
   "metadata": {},
   "outputs": [
    {
     "data": {
      "text/plain": [
       "[0.2845585240605907,\n",
       " 0.06185586627736752,\n",
       " 0.0015952111831830835,\n",
       " 0.0043663122914465065,\n",
       " 0.01241647753139648,\n",
       " 0.006427171509198969,\n",
       " 0.0006063652311427119,\n",
       " 0.16923730642009127,\n",
       " 0.9865240471572297,\n",
       " 0.01081912648959322,\n",
       " 0.8584545476044748,\n",
       " 0.012899478281009801,\n",
       " 0.33371206902831185,\n",
       " 0.4655256772316571,\n",
       " 0.9310570224409777,\n",
       " 0.12771157525222596,\n",
       " 0.07022341709405497,\n",
       " 0.00432284583536309,\n",
       " 0.649625396823024,\n",
       " 0.47226002710422216,\n",
       " 0.29397862335697905,\n",
       " 0.005725860606382812,\n",
       " 0.8186844177563263,\n",
       " 0.3184800442481293,\n",
       " 0.2561148419612065,\n",
       " 0.03801794188471763,\n",
       " 0.5848207692862483,\n",
       " 0.9578856636038192,\n",
       " 0.8137180823059312,\n",
       " 0.007663922192337463,\n",
       " 0.4936994926841879,\n",
       " 0.0236973258033646,\n",
       " 0.04718225917743851,\n",
       " 0.06542509919555922,\n",
       " 0.23894392093983371,\n",
       " 0.33669787797106077,\n",
       " 0.022668858088174378,\n",
       " 0.1877358818729389,\n",
       " 0.09754943929848517,\n",
       " 0.7549239693824477,\n",
       " 0.3353102004104435,\n",
       " 0.008916912686922025,\n",
       " 0.5068240765124415,\n",
       " 0.4958887875677357,\n",
       " 0.5259971883610775,\n",
       " 4.8608837464087504e-05,\n",
       " 0.12139938032913529,\n",
       " 0.02097348831369967,\n",
       " 0.4078749639477334,\n",
       " 0.11625615009512244]"
      ]
     },
     "execution_count": 133,
     "metadata": {},
     "output_type": "execute_result"
    }
   ],
   "source": [
    "list(ambiguity_dict.values())"
   ]
  },
  {
   "cell_type": "code",
   "execution_count": null,
   "metadata": {},
   "outputs": [],
   "source": []
  },
  {
   "cell_type": "code",
   "execution_count": 295,
   "metadata": {},
   "outputs": [
    {
     "name": "stdout",
     "output_type": "stream",
     "text": [
      "0.32066115702479336\n",
      "0.25\n"
     ]
    }
   ],
   "source": [
    "# test\n",
    "\n",
    "udata1 = create_user_data(1, df, 1, 0.1)\n",
    "udata2 = create_user_data(2, df, 1, 0.1)\n",
    "r1 = list(udata1[udata1.topic_item==251].ratings.sort_values(ascending=False)[:10].index)\n",
    "r2 = list(udata2[udata2.topic_item==251].ratings.sort_values(ascending=False)[:10].index)\n",
    "print(kendaltauscore(r1, r2))\n",
    "print(intersectscore(r1, r2))"
   ]
  },
  {
   "cell_type": "code",
   "execution_count": null,
   "metadata": {},
   "outputs": [],
   "source": []
  },
  {
   "cell_type": "code",
   "execution_count": 128,
   "metadata": {},
   "outputs": [
    {
     "data": {
      "text/plain": [
       "[0.2845585240605907,\n",
       " 0.06185586627736752,\n",
       " 0.0015952111831830835,\n",
       " 0.0043663122914465065,\n",
       " 0.01241647753139648,\n",
       " 0.006427171509198969,\n",
       " 0.0006063652311427119,\n",
       " 0.16923730642009127,\n",
       " 0.9865240471572297,\n",
       " 0.01081912648959322,\n",
       " 0.8584545476044748,\n",
       " 0.012899478281009801,\n",
       " 0.33371206902831185,\n",
       " 0.4655256772316571,\n",
       " 0.9310570224409777,\n",
       " 0.12771157525222596,\n",
       " 0.07022341709405497,\n",
       " 0.00432284583536309,\n",
       " 0.649625396823024,\n",
       " 0.47226002710422216,\n",
       " 0.29397862335697905,\n",
       " 0.005725860606382812,\n",
       " 0.8186844177563263,\n",
       " 0.3184800442481293,\n",
       " 0.2561148419612065,\n",
       " 0.03801794188471763,\n",
       " 0.5848207692862483,\n",
       " 0.9578856636038192,\n",
       " 0.8137180823059312,\n",
       " 0.007663922192337463,\n",
       " 0.4936994926841879,\n",
       " 0.0236973258033646,\n",
       " 0.04718225917743851,\n",
       " 0.06542509919555922,\n",
       " 0.23894392093983371,\n",
       " 0.33669787797106077,\n",
       " 0.022668858088174378,\n",
       " 0.1877358818729389,\n",
       " 0.09754943929848517,\n",
       " 0.7549239693824477,\n",
       " 0.3353102004104435,\n",
       " 0.008916912686922025,\n",
       " 0.5068240765124415,\n",
       " 0.4958887875677357,\n",
       " 0.5259971883610775,\n",
       " 4.8608837464087504e-05,\n",
       " 0.12139938032913529,\n",
       " 0.02097348831369967,\n",
       " 0.4078749639477334,\n",
       " 0.11625615009512244]"
      ]
     },
     "execution_count": 128,
     "metadata": {},
     "output_type": "execute_result"
    }
   ],
   "source": []
  },
  {
   "cell_type": "code",
   "execution_count": null,
   "metadata": {},
   "outputs": [],
   "source": []
  }
 ],
 "metadata": {
  "kernelspec": {
   "display_name": "Python 3",
   "language": "python",
   "name": "python3"
  },
  "language_info": {
   "codemirror_mode": {
    "name": "ipython",
    "version": 3
   },
   "file_extension": ".py",
   "mimetype": "text/x-python",
   "name": "python",
   "nbconvert_exporter": "python",
   "pygments_lexer": "ipython3",
   "version": "3.6.5"
  }
 },
 "nbformat": 4,
 "nbformat_minor": 2
}
