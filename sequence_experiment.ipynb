{
 "cells": [
  {
   "cell_type": "code",
   "execution_count": 180,
   "metadata": {},
   "outputs": [
    {
     "name": "stdout",
     "output_type": "stream",
     "text": [
      "The autoreload extension is already loaded. To reload it, use:\n",
      "  %reload_ext autoreload\n"
     ]
    }
   ],
   "source": [
    "%load_ext autoreload\n",
    "%autoreload 2\n",
    "import numpy as np\n",
    "from matplotlib import pyplot as plt\n",
    "import pystan\n",
    "import experiments\n",
    "import utils"
   ]
  },
  {
   "cell_type": "code",
   "execution_count": 181,
   "metadata": {},
   "outputs": [],
   "source": [
    "import itertools\n",
    "import pandas as pd\n",
    "import utils\n",
    "import experiments"
   ]
  },
  {
   "cell_type": "code",
   "execution_count": 182,
   "metadata": {},
   "outputs": [],
   "source": [
    "rawdf = pd.read_json(\"PICO-annos-crowdsourcing.json\", lines=True)\n",
    "aggdf = pd.read_json(\"PICO-annos-crowdsourcing-agg.json\", lines=True)\n",
    "golddf = pd.read_json(\"PICO-annos-professional.json\", lines=True)"
   ]
  },
  {
   "cell_type": "code",
   "execution_count": 183,
   "metadata": {},
   "outputs": [],
   "source": [
    "userIDs = []\n",
    "itemIDs = []\n",
    "labels = []\n",
    "golds = []\n",
    "hmmcrowds = []\n",
    "dawidskenes = []\n",
    "majorityvotes = []\n",
    "for row in rawdf.iterrows():\n",
    "    itemID = row[1][\"docid\"]\n",
    "    data = row[1][\"Participants\"]\n",
    "    gold = golddf[golddf[\"docid\"] == itemID][\"Participants\"].values[0]\n",
    "    gold = gold.get(\"MedicalStudent\")\n",
    "    agg = aggdf[aggdf[\"docid\"] == itemID][\"Participants\"].values[0]\n",
    "    for userID, label in data.items():\n",
    "        userIDs.append(userID)\n",
    "        itemIDs.append(itemID)\n",
    "        labels.append(label)\n",
    "        golds.append(gold)\n",
    "        hmmcrowds.append(agg[\"HMMCrowd\"])\n",
    "        dawidskenes.append(agg[\"DawidSkene\"])\n",
    "        majorityvotes.append(agg[\"MajorityVote\"])\n",
    "df = pd.DataFrame({\"uid\":userIDs, \"itemID\":itemIDs, \"label\":labels, \"gold\":golds,\n",
    "                  \"HMMCrowd\":hmmcrowds, \"DawidSkene\":dawidskenes, \"MajorityVote\":majorityvotes})\n",
    "df = df.sort_values(\"itemID\")\n",
    "userIdDict = utils.make_categorical(df, \"uid\")\n",
    "itemIdDict = utils.make_categorical(df, \"itemID\")"
   ]
  },
  {
   "cell_type": "code",
   "execution_count": 184,
   "metadata": {},
   "outputs": [
    {
     "data": {
      "text/plain": [
       "(1165, 7)"
      ]
     },
     "execution_count": 184,
     "metadata": {},
     "output_type": "execute_result"
    }
   ],
   "source": [
    "df.shape"
   ]
  },
  {
   "cell_type": "code",
   "execution_count": 185,
   "metadata": {},
   "outputs": [],
   "source": [
    "gold_labels = dict(df.groupby(\"itemID\").first()[\"gold\"].dropna())\n",
    "hmm_labels = dict(df.groupby(\"itemID\").first()[\"HMMCrowd\"].dropna())\n",
    "ds_labels = dict(df.groupby(\"itemID\").first()[\"DawidSkene\"].dropna())\n",
    "mv_labels = dict(df.groupby(\"itemID\").first()[\"MajorityVote\"].dropna())"
   ]
  },
  {
   "cell_type": "code",
   "execution_count": 186,
   "metadata": {},
   "outputs": [],
   "source": [
    "def labels2set(labels):\n",
    "    ranges = [range(s[0], s[1]+1) for s in labels]\n",
    "    return set(itertools.chain.from_iterable(ranges))\n",
    "\n",
    "def list2ranges(i):\n",
    "    result = []\n",
    "    for a, b in itertools.groupby(enumerate(i), lambda k: k[1] - k[0]):\n",
    "        b = list(b)\n",
    "        result.append([b[0][1], b[-1][1]])\n",
    "    return result\n",
    "\n",
    "def intersects_per_span(a_spans, b_spans):\n",
    "    a_sets = [labels2set([a]) for a in a_spans]\n",
    "    b_set = labels2set(b_spans)\n",
    "    scores = [len(a.intersection(b_set)) / len(a) for a in a_sets]\n",
    "    return np.mean(scores)\n",
    "\n",
    "def eval_precision(pred_spans, gold_spans):\n",
    "    return intersects_per_span(pred_spans, gold_spans)\n",
    "\n",
    "def eval_recall(pred_spans, gold_spans):\n",
    "    return intersects_per_span(gold_spans, pred_spans)\n",
    "\n",
    "def eval_f1(a_spans, b_spans):\n",
    "    p = eval_precision(a_spans, b_spans)\n",
    "    r = eval_precision(b_spans, a_spans)\n",
    "    denom = (p + r)\n",
    "    return 2 * p * r / denom if denom > 0 else 0"
   ]
  },
  {
   "cell_type": "code",
   "execution_count": 187,
   "metadata": {},
   "outputs": [],
   "source": [
    "pd.set_option('display.max_colwidth', 800)"
   ]
  },
  {
   "cell_type": "code",
   "execution_count": 188,
   "metadata": {
    "scrolled": true
   },
   "outputs": [
    {
     "data": {
      "text/html": [
       "<div>\n",
       "<style scoped>\n",
       "    .dataframe tbody tr th:only-of-type {\n",
       "        vertical-align: middle;\n",
       "    }\n",
       "\n",
       "    .dataframe tbody tr th {\n",
       "        vertical-align: top;\n",
       "    }\n",
       "\n",
       "    .dataframe thead th {\n",
       "        text-align: right;\n",
       "    }\n",
       "</style>\n",
       "<table border=\"1\" class=\"dataframe\">\n",
       "  <thead>\n",
       "    <tr style=\"text-align: right;\">\n",
       "      <th></th>\n",
       "      <th>label</th>\n",
       "    </tr>\n",
       "  </thead>\n",
       "  <tbody>\n",
       "    <tr>\n",
       "      <th>1105</th>\n",
       "      <td>[[568, 580]]</td>\n",
       "    </tr>\n",
       "    <tr>\n",
       "      <th>1104</th>\n",
       "      <td>[[21, 44], [67, 76], [362, 421], [568, 580]]</td>\n",
       "    </tr>\n",
       "    <tr>\n",
       "      <th>1103</th>\n",
       "      <td>[[67, 147]]</td>\n",
       "    </tr>\n",
       "    <tr>\n",
       "      <th>1102</th>\n",
       "      <td>[[5, 44], [61, 135], [253, 294], [362, 421], [568, 580], [659, 859], [1103, 1123]]</td>\n",
       "    </tr>\n",
       "    <tr>\n",
       "      <th>1101</th>\n",
       "      <td>[[5, 17], [395, 401]]</td>\n",
       "    </tr>\n",
       "    <tr>\n",
       "      <th>1100</th>\n",
       "      <td>[[568, 580]]</td>\n",
       "    </tr>\n",
       "    <tr>\n",
       "      <th>1099</th>\n",
       "      <td>[[21, 44], [271, 294], [362, 421], [568, 580], [1103, 1123]]</td>\n",
       "    </tr>\n",
       "    <tr>\n",
       "      <th>561</th>\n",
       "      <td>[[60, 112], [510, 518], [313, 321], [617, 625]]</td>\n",
       "    </tr>\n",
       "    <tr>\n",
       "      <th>562</th>\n",
       "      <td>[[0, 60], [60, 769]]</td>\n",
       "    </tr>\n",
       "    <tr>\n",
       "      <th>563</th>\n",
       "      <td>[[19, 25], [510, 518], [66, 73]]</td>\n",
       "    </tr>\n",
       "    <tr>\n",
       "      <th>564</th>\n",
       "      <td>[[60, 112], [309, 321], [507, 518], [752, 767]]</td>\n",
       "    </tr>\n",
       "    <tr>\n",
       "      <th>560</th>\n",
       "      <td>[[60, 112], [507, 552], [309, 321]]</td>\n",
       "    </tr>\n",
       "    <tr>\n",
       "      <th>566</th>\n",
       "      <td>[[12, 25], [60, 112], [697, 716]]</td>\n",
       "    </tr>\n",
       "    <tr>\n",
       "      <th>565</th>\n",
       "      <td>[[60, 112], [309, 380]]</td>\n",
       "    </tr>\n",
       "    <tr>\n",
       "      <th>769</th>\n",
       "      <td>[[198, 218]]</td>\n",
       "    </tr>\n",
       "    <tr>\n",
       "      <th>767</th>\n",
       "      <td>[[52, 76], [187, 218]]</td>\n",
       "    </tr>\n",
       "    <tr>\n",
       "      <th>772</th>\n",
       "      <td>[[198, 218]]</td>\n",
       "    </tr>\n",
       "    <tr>\n",
       "      <th>771</th>\n",
       "      <td>[[198, 218], [63, 76]]</td>\n",
       "    </tr>\n",
       "    <tr>\n",
       "      <th>768</th>\n",
       "      <td>[[52, 78], [198, 218]]</td>\n",
       "    </tr>\n",
       "    <tr>\n",
       "      <th>770</th>\n",
       "      <td>[[198, 218]]</td>\n",
       "    </tr>\n",
       "    <tr>\n",
       "      <th>845</th>\n",
       "      <td>[[191, 259], [259, 337], [1440, 1487]]</td>\n",
       "    </tr>\n",
       "    <tr>\n",
       "      <th>849</th>\n",
       "      <td>[[259, 284], [1440, 1487], [695, 717]]</td>\n",
       "    </tr>\n",
       "    <tr>\n",
       "      <th>844</th>\n",
       "      <td>[[191, 257], [259, 337]]</td>\n",
       "    </tr>\n",
       "    <tr>\n",
       "      <th>850</th>\n",
       "      <td>[[191, 257], [259, 313], [1440, 1487]]</td>\n",
       "    </tr>\n",
       "    <tr>\n",
       "      <th>847</th>\n",
       "      <td>[[191, 257], [259, 313], [1440, 1487]]</td>\n",
       "    </tr>\n",
       "    <tr>\n",
       "      <th>846</th>\n",
       "      <td>[[191, 257], [259, 313], [1440, 1487]]</td>\n",
       "    </tr>\n",
       "    <tr>\n",
       "      <th>848</th>\n",
       "      <td>[[259, 313]]</td>\n",
       "    </tr>\n",
       "    <tr>\n",
       "      <th>996</th>\n",
       "      <td>[[454, 504]]</td>\n",
       "    </tr>\n",
       "    <tr>\n",
       "      <th>998</th>\n",
       "      <td>[[99, 121], [273, 301], [454, 520], [948, 971]]</td>\n",
       "    </tr>\n",
       "    <tr>\n",
       "      <th>1002</th>\n",
       "      <td>[[454, 485], [948, 972]]</td>\n",
       "    </tr>\n",
       "    <tr>\n",
       "      <th>...</th>\n",
       "      <td>...</td>\n",
       "    </tr>\n",
       "    <tr>\n",
       "      <th>306</th>\n",
       "      <td>[[0, 63], [232, 286], [614, 643]]</td>\n",
       "    </tr>\n",
       "    <tr>\n",
       "      <th>307</th>\n",
       "      <td>[[16, 63], [614, 643]]</td>\n",
       "    </tr>\n",
       "    <tr>\n",
       "      <th>308</th>\n",
       "      <td>[[595, 643], [644, 667], [748, 771], [918, 935], [0, 63], [387, 420], [436, 480], [538, 573]]</td>\n",
       "    </tr>\n",
       "    <tr>\n",
       "      <th>309</th>\n",
       "      <td>[[614, 643], [359, 528]]</td>\n",
       "    </tr>\n",
       "    <tr>\n",
       "      <th>310</th>\n",
       "      <td>[[595, 643], [359, 572]]</td>\n",
       "    </tr>\n",
       "    <tr>\n",
       "      <th>69</th>\n",
       "      <td>[[47, 101], [395, 445]]</td>\n",
       "    </tr>\n",
       "    <tr>\n",
       "      <th>67</th>\n",
       "      <td>[[61, 101], [331, 375], [395, 445]]</td>\n",
       "    </tr>\n",
       "    <tr>\n",
       "      <th>65</th>\n",
       "      <td>[[61, 101], [331, 376], [377, 446], [489, 606], [794, 805]]</td>\n",
       "    </tr>\n",
       "    <tr>\n",
       "      <th>64</th>\n",
       "      <td>[[61, 101], [331, 376], [377, 416], [794, 805]]</td>\n",
       "    </tr>\n",
       "    <tr>\n",
       "      <th>68</th>\n",
       "      <td>[[395, 446]]</td>\n",
       "    </tr>\n",
       "    <tr>\n",
       "      <th>70</th>\n",
       "      <td>[[61, 101], [331, 376], [395, 446]]</td>\n",
       "    </tr>\n",
       "    <tr>\n",
       "      <th>66</th>\n",
       "      <td>[[61, 101], [331, 376], [395, 446]]</td>\n",
       "    </tr>\n",
       "    <tr>\n",
       "      <th>110</th>\n",
       "      <td>[[479, 549]]</td>\n",
       "    </tr>\n",
       "    <tr>\n",
       "      <th>109</th>\n",
       "      <td>[[134, 165], [479, 549]]</td>\n",
       "    </tr>\n",
       "    <tr>\n",
       "      <th>114</th>\n",
       "      <td>[[134, 165], [479, 549]]</td>\n",
       "    </tr>\n",
       "    <tr>\n",
       "      <th>112</th>\n",
       "      <td>[[479, 549]]</td>\n",
       "    </tr>\n",
       "    <tr>\n",
       "      <th>111</th>\n",
       "      <td>[[134, 165], [479, 549]]</td>\n",
       "    </tr>\n",
       "    <tr>\n",
       "      <th>113</th>\n",
       "      <td>[[479, 549], [577, 588], [611, 679], [1211, 1240], [1257, 1264], [1515, 1522], [1492, 1500], [1480, 1487], [1335, 1342], [1311, 1319], [1299, 1306], [1412, 1421], [1400, 1407], [1376, 1383]]</td>\n",
       "    </tr>\n",
       "    <tr>\n",
       "      <th>460</th>\n",
       "      <td>[[938, 975], [1435, 1454], [538, 640], [870, 929], [1314, 1320]]</td>\n",
       "    </tr>\n",
       "    <tr>\n",
       "      <th>459</th>\n",
       "      <td>[[37, 75], [162, 205], [396, 465], [598, 683], [938, 960]]</td>\n",
       "    </tr>\n",
       "    <tr>\n",
       "      <th>458</th>\n",
       "      <td>[[37, 75], [162, 205], [396, 414], [584, 653], [728, 768], [910, 929], [949, 960], [1153, 1235], [1423, 1453], [1572, 1587]]</td>\n",
       "    </tr>\n",
       "    <tr>\n",
       "      <th>457</th>\n",
       "      <td>[[37, 75], [162, 205], [396, 423], [949, 960]]</td>\n",
       "    </tr>\n",
       "    <tr>\n",
       "      <th>456</th>\n",
       "      <td>[[37, 75], [162, 205], [949, 960], [1153, 1171]]</td>\n",
       "    </tr>\n",
       "    <tr>\n",
       "      <th>455</th>\n",
       "      <td>[[6, 75], [117, 205], [359, 465], [584, 683], [702, 768], [910, 929], [949, 975], [1153, 1235], [1423, 1454], [1501, 1640]]</td>\n",
       "    </tr>\n",
       "    <tr>\n",
       "      <th>867</th>\n",
       "      <td>[[812, 850]]</td>\n",
       "    </tr>\n",
       "    <tr>\n",
       "      <th>863</th>\n",
       "      <td>[[812, 902]]</td>\n",
       "    </tr>\n",
       "    <tr>\n",
       "      <th>864</th>\n",
       "      <td>[[714, 750], [812, 850], [1566, 1601]]</td>\n",
       "    </tr>\n",
       "    <tr>\n",
       "      <th>865</th>\n",
       "      <td>[[81, 129], [183, 218], [714, 750], [812, 850], [1566, 1601]]</td>\n",
       "    </tr>\n",
       "    <tr>\n",
       "      <th>866</th>\n",
       "      <td>[[812, 850]]</td>\n",
       "    </tr>\n",
       "    <tr>\n",
       "      <th>868</th>\n",
       "      <td>[[81, 129], [714, 750], [812, 902], [1566, 1623]]</td>\n",
       "    </tr>\n",
       "  </tbody>\n",
       "</table>\n",
       "<p>1165 rows × 1 columns</p>\n",
       "</div>"
      ],
      "text/plain": [
       "                                                                                                                                                                                               label\n",
       "1105                                                                                                                                                                                    [[568, 580]]\n",
       "1104                                                                                                                                                    [[21, 44], [67, 76], [362, 421], [568, 580]]\n",
       "1103                                                                                                                                                                                     [[67, 147]]\n",
       "1102                                                                                                              [[5, 44], [61, 135], [253, 294], [362, 421], [568, 580], [659, 859], [1103, 1123]]\n",
       "1101                                                                                                                                                                           [[5, 17], [395, 401]]\n",
       "1100                                                                                                                                                                                    [[568, 580]]\n",
       "1099                                                                                                                                    [[21, 44], [271, 294], [362, 421], [568, 580], [1103, 1123]]\n",
       "561                                                                                                                                                  [[60, 112], [510, 518], [313, 321], [617, 625]]\n",
       "562                                                                                                                                                                             [[0, 60], [60, 769]]\n",
       "563                                                                                                                                                                 [[19, 25], [510, 518], [66, 73]]\n",
       "564                                                                                                                                                  [[60, 112], [309, 321], [507, 518], [752, 767]]\n",
       "560                                                                                                                                                              [[60, 112], [507, 552], [309, 321]]\n",
       "566                                                                                                                                                                [[12, 25], [60, 112], [697, 716]]\n",
       "565                                                                                                                                                                          [[60, 112], [309, 380]]\n",
       "769                                                                                                                                                                                     [[198, 218]]\n",
       "767                                                                                                                                                                           [[52, 76], [187, 218]]\n",
       "772                                                                                                                                                                                     [[198, 218]]\n",
       "771                                                                                                                                                                           [[198, 218], [63, 76]]\n",
       "768                                                                                                                                                                           [[52, 78], [198, 218]]\n",
       "770                                                                                                                                                                                     [[198, 218]]\n",
       "845                                                                                                                                                           [[191, 259], [259, 337], [1440, 1487]]\n",
       "849                                                                                                                                                           [[259, 284], [1440, 1487], [695, 717]]\n",
       "844                                                                                                                                                                         [[191, 257], [259, 337]]\n",
       "850                                                                                                                                                           [[191, 257], [259, 313], [1440, 1487]]\n",
       "847                                                                                                                                                           [[191, 257], [259, 313], [1440, 1487]]\n",
       "846                                                                                                                                                           [[191, 257], [259, 313], [1440, 1487]]\n",
       "848                                                                                                                                                                                     [[259, 313]]\n",
       "996                                                                                                                                                                                     [[454, 504]]\n",
       "998                                                                                                                                                  [[99, 121], [273, 301], [454, 520], [948, 971]]\n",
       "1002                                                                                                                                                                        [[454, 485], [948, 972]]\n",
       "...                                                                                                                                                                                              ...\n",
       "306                                                                                                                                                                [[0, 63], [232, 286], [614, 643]]\n",
       "307                                                                                                                                                                           [[16, 63], [614, 643]]\n",
       "308                                                                                                    [[595, 643], [644, 667], [748, 771], [918, 935], [0, 63], [387, 420], [436, 480], [538, 573]]\n",
       "309                                                                                                                                                                         [[614, 643], [359, 528]]\n",
       "310                                                                                                                                                                         [[595, 643], [359, 572]]\n",
       "69                                                                                                                                                                           [[47, 101], [395, 445]]\n",
       "67                                                                                                                                                               [[61, 101], [331, 375], [395, 445]]\n",
       "65                                                                                                                                       [[61, 101], [331, 376], [377, 446], [489, 606], [794, 805]]\n",
       "64                                                                                                                                                   [[61, 101], [331, 376], [377, 416], [794, 805]]\n",
       "68                                                                                                                                                                                      [[395, 446]]\n",
       "70                                                                                                                                                               [[61, 101], [331, 376], [395, 446]]\n",
       "66                                                                                                                                                               [[61, 101], [331, 376], [395, 446]]\n",
       "110                                                                                                                                                                                     [[479, 549]]\n",
       "109                                                                                                                                                                         [[134, 165], [479, 549]]\n",
       "114                                                                                                                                                                         [[134, 165], [479, 549]]\n",
       "112                                                                                                                                                                                     [[479, 549]]\n",
       "111                                                                                                                                                                         [[134, 165], [479, 549]]\n",
       "113   [[479, 549], [577, 588], [611, 679], [1211, 1240], [1257, 1264], [1515, 1522], [1492, 1500], [1480, 1487], [1335, 1342], [1311, 1319], [1299, 1306], [1412, 1421], [1400, 1407], [1376, 1383]]\n",
       "460                                                                                                                                 [[938, 975], [1435, 1454], [538, 640], [870, 929], [1314, 1320]]\n",
       "459                                                                                                                                       [[37, 75], [162, 205], [396, 465], [598, 683], [938, 960]]\n",
       "458                                                                     [[37, 75], [162, 205], [396, 414], [584, 653], [728, 768], [910, 929], [949, 960], [1153, 1235], [1423, 1453], [1572, 1587]]\n",
       "457                                                                                                                                                   [[37, 75], [162, 205], [396, 423], [949, 960]]\n",
       "456                                                                                                                                                 [[37, 75], [162, 205], [949, 960], [1153, 1171]]\n",
       "455                                                                      [[6, 75], [117, 205], [359, 465], [584, 683], [702, 768], [910, 929], [949, 975], [1153, 1235], [1423, 1454], [1501, 1640]]\n",
       "867                                                                                                                                                                                     [[812, 850]]\n",
       "863                                                                                                                                                                                     [[812, 902]]\n",
       "864                                                                                                                                                           [[714, 750], [812, 850], [1566, 1601]]\n",
       "865                                                                                                                                    [[81, 129], [183, 218], [714, 750], [812, 850], [1566, 1601]]\n",
       "866                                                                                                                                                                                     [[812, 850]]\n",
       "868                                                                                                                                                [[81, 129], [714, 750], [812, 902], [1566, 1623]]\n",
       "\n",
       "[1165 rows x 1 columns]"
      ]
     },
     "execution_count": 188,
     "metadata": {},
     "output_type": "execute_result"
    }
   ],
   "source": [
    "pd.set_option('display.width', 2000)\n",
    "df.sort_values(\"itemID\")[[\"label\"]]"
   ]
  },
  {
   "cell_type": "code",
   "execution_count": 189,
   "metadata": {},
   "outputs": [
    {
     "name": "stderr",
     "output_type": "stream",
     "text": [
      " 57%|█████▋    | 109/191 [00:01<00:01, 61.50it/s]\n"
     ]
    },
    {
     "ename": "KeyboardInterrupt",
     "evalue": "",
     "output_type": "error",
     "traceback": [
      "\u001b[0;31m---------------------------------------------------------------------------\u001b[0m",
      "\u001b[0;31mKeyboardInterrupt\u001b[0m                         Traceback (most recent call last)",
      "\u001b[0;32m<ipython-input-189-2315fd458318>\u001b[0m in \u001b[0;36m<module>\u001b[0;34m()\u001b[0m\n\u001b[0;32m----> 1\u001b[0;31m \u001b[0mstan_data\u001b[0m \u001b[0;34m=\u001b[0m \u001b[0mutils\u001b[0m\u001b[0;34m.\u001b[0m\u001b[0mcalc_distances\u001b[0m\u001b[0;34m(\u001b[0m\u001b[0mdf\u001b[0m\u001b[0;34m,\u001b[0m \u001b[0;32mlambda\u001b[0m \u001b[0mx\u001b[0m\u001b[0;34m,\u001b[0m \u001b[0my\u001b[0m\u001b[0;34m:\u001b[0m \u001b[0;36m1\u001b[0m \u001b[0;34m-\u001b[0m \u001b[0meval_f1\u001b[0m\u001b[0;34m(\u001b[0m\u001b[0mx\u001b[0m\u001b[0;34m,\u001b[0m \u001b[0my\u001b[0m\u001b[0;34m)\u001b[0m\u001b[0;34m,\u001b[0m \u001b[0;34m\"label\"\u001b[0m\u001b[0;34m,\u001b[0m \u001b[0;34m\"itemID\"\u001b[0m\u001b[0;34m)\u001b[0m\u001b[0;34m\u001b[0m\u001b[0m\n\u001b[0m",
      "\u001b[0;32m~/Tools/crowd/utils.py\u001b[0m in \u001b[0;36mcalc_distances\u001b[0;34m(df, compare_fn, label_colname, item_colname, uid_colname)\u001b[0m\n\u001b[1;32m     76\u001b[0m         \u001b[0;32mfor\u001b[0m \u001b[0mu1\u001b[0m\u001b[0;34m,\u001b[0m \u001b[0mu2\u001b[0m \u001b[0;32min\u001b[0m \u001b[0mcombinations\u001b[0m\u001b[0;34m(\u001b[0m\u001b[0musers\u001b[0m\u001b[0;34m,\u001b[0m \u001b[0;36m2\u001b[0m\u001b[0;34m)\u001b[0m\u001b[0;34m:\u001b[0m\u001b[0;34m\u001b[0m\u001b[0m\n\u001b[1;32m     77\u001b[0m             \u001b[0mp1\u001b[0m \u001b[0;34m=\u001b[0m \u001b[0midf\u001b[0m\u001b[0;34m[\u001b[0m\u001b[0midf\u001b[0m\u001b[0;34m[\u001b[0m\u001b[0muid_colname\u001b[0m\u001b[0;34m]\u001b[0m\u001b[0;34m==\u001b[0m\u001b[0mu1\u001b[0m\u001b[0;34m]\u001b[0m\u001b[0;34m[\u001b[0m\u001b[0mlabel_colname\u001b[0m\u001b[0;34m]\u001b[0m\u001b[0;34m.\u001b[0m\u001b[0mvalues\u001b[0m\u001b[0;34m[\u001b[0m\u001b[0;36m0\u001b[0m\u001b[0;34m]\u001b[0m\u001b[0;34m\u001b[0m\u001b[0m\n\u001b[0;32m---> 78\u001b[0;31m             \u001b[0mp2\u001b[0m \u001b[0;34m=\u001b[0m \u001b[0midf\u001b[0m\u001b[0;34m[\u001b[0m\u001b[0midf\u001b[0m\u001b[0;34m[\u001b[0m\u001b[0muid_colname\u001b[0m\u001b[0;34m]\u001b[0m\u001b[0;34m==\u001b[0m\u001b[0mu2\u001b[0m\u001b[0;34m]\u001b[0m\u001b[0;34m[\u001b[0m\u001b[0mlabel_colname\u001b[0m\u001b[0;34m]\u001b[0m\u001b[0;34m.\u001b[0m\u001b[0mvalues\u001b[0m\u001b[0;34m[\u001b[0m\u001b[0;36m0\u001b[0m\u001b[0;34m]\u001b[0m\u001b[0;34m\u001b[0m\u001b[0m\n\u001b[0m\u001b[1;32m     79\u001b[0m             \u001b[0mdistance\u001b[0m \u001b[0;34m=\u001b[0m \u001b[0mcompare_fn\u001b[0m\u001b[0;34m(\u001b[0m\u001b[0mp1\u001b[0m\u001b[0;34m,\u001b[0m \u001b[0mp2\u001b[0m\u001b[0;34m)\u001b[0m\u001b[0;34m\u001b[0m\u001b[0m\n\u001b[1;32m     80\u001b[0m             \u001b[0mitems\u001b[0m\u001b[0;34m.\u001b[0m\u001b[0mappend\u001b[0m\u001b[0;34m(\u001b[0m\u001b[0mitem\u001b[0m\u001b[0;34m)\u001b[0m\u001b[0;34m\u001b[0m\u001b[0m\n",
      "\u001b[0;32m/usr/local/lib/python3.6/site-packages/pandas/core/frame.py\u001b[0m in \u001b[0;36m__getitem__\u001b[0;34m(self, key)\u001b[0m\n\u001b[1;32m   2680\u001b[0m         \u001b[0;32mif\u001b[0m \u001b[0misinstance\u001b[0m\u001b[0;34m(\u001b[0m\u001b[0mkey\u001b[0m\u001b[0;34m,\u001b[0m \u001b[0;34m(\u001b[0m\u001b[0mSeries\u001b[0m\u001b[0;34m,\u001b[0m \u001b[0mnp\u001b[0m\u001b[0;34m.\u001b[0m\u001b[0mndarray\u001b[0m\u001b[0;34m,\u001b[0m \u001b[0mIndex\u001b[0m\u001b[0;34m,\u001b[0m \u001b[0mlist\u001b[0m\u001b[0;34m)\u001b[0m\u001b[0;34m)\u001b[0m\u001b[0;34m:\u001b[0m\u001b[0;34m\u001b[0m\u001b[0m\n\u001b[1;32m   2681\u001b[0m             \u001b[0;31m# either boolean or fancy integer index\u001b[0m\u001b[0;34m\u001b[0m\u001b[0;34m\u001b[0m\u001b[0m\n\u001b[0;32m-> 2682\u001b[0;31m             \u001b[0;32mreturn\u001b[0m \u001b[0mself\u001b[0m\u001b[0;34m.\u001b[0m\u001b[0m_getitem_array\u001b[0m\u001b[0;34m(\u001b[0m\u001b[0mkey\u001b[0m\u001b[0;34m)\u001b[0m\u001b[0;34m\u001b[0m\u001b[0m\n\u001b[0m\u001b[1;32m   2683\u001b[0m         \u001b[0;32melif\u001b[0m \u001b[0misinstance\u001b[0m\u001b[0;34m(\u001b[0m\u001b[0mkey\u001b[0m\u001b[0;34m,\u001b[0m \u001b[0mDataFrame\u001b[0m\u001b[0;34m)\u001b[0m\u001b[0;34m:\u001b[0m\u001b[0;34m\u001b[0m\u001b[0m\n\u001b[1;32m   2684\u001b[0m             \u001b[0;32mreturn\u001b[0m \u001b[0mself\u001b[0m\u001b[0;34m.\u001b[0m\u001b[0m_getitem_frame\u001b[0m\u001b[0;34m(\u001b[0m\u001b[0mkey\u001b[0m\u001b[0;34m)\u001b[0m\u001b[0;34m\u001b[0m\u001b[0m\n",
      "\u001b[0;32m/usr/local/lib/python3.6/site-packages/pandas/core/frame.py\u001b[0m in \u001b[0;36m_getitem_array\u001b[0;34m(self, key)\u001b[0m\n\u001b[1;32m   2722\u001b[0m             \u001b[0mkey\u001b[0m \u001b[0;34m=\u001b[0m \u001b[0mcheck_bool_indexer\u001b[0m\u001b[0;34m(\u001b[0m\u001b[0mself\u001b[0m\u001b[0;34m.\u001b[0m\u001b[0mindex\u001b[0m\u001b[0;34m,\u001b[0m \u001b[0mkey\u001b[0m\u001b[0;34m)\u001b[0m\u001b[0;34m\u001b[0m\u001b[0m\n\u001b[1;32m   2723\u001b[0m             \u001b[0mindexer\u001b[0m \u001b[0;34m=\u001b[0m \u001b[0mkey\u001b[0m\u001b[0;34m.\u001b[0m\u001b[0mnonzero\u001b[0m\u001b[0;34m(\u001b[0m\u001b[0;34m)\u001b[0m\u001b[0;34m[\u001b[0m\u001b[0;36m0\u001b[0m\u001b[0;34m]\u001b[0m\u001b[0;34m\u001b[0m\u001b[0m\n\u001b[0;32m-> 2724\u001b[0;31m             \u001b[0;32mreturn\u001b[0m \u001b[0mself\u001b[0m\u001b[0;34m.\u001b[0m\u001b[0m_take\u001b[0m\u001b[0;34m(\u001b[0m\u001b[0mindexer\u001b[0m\u001b[0;34m,\u001b[0m \u001b[0maxis\u001b[0m\u001b[0;34m=\u001b[0m\u001b[0;36m0\u001b[0m\u001b[0;34m)\u001b[0m\u001b[0;34m\u001b[0m\u001b[0m\n\u001b[0m\u001b[1;32m   2725\u001b[0m         \u001b[0;32melse\u001b[0m\u001b[0;34m:\u001b[0m\u001b[0;34m\u001b[0m\u001b[0m\n\u001b[1;32m   2726\u001b[0m             \u001b[0mindexer\u001b[0m \u001b[0;34m=\u001b[0m \u001b[0mself\u001b[0m\u001b[0;34m.\u001b[0m\u001b[0mloc\u001b[0m\u001b[0;34m.\u001b[0m\u001b[0m_convert_to_indexer\u001b[0m\u001b[0;34m(\u001b[0m\u001b[0mkey\u001b[0m\u001b[0;34m,\u001b[0m \u001b[0maxis\u001b[0m\u001b[0;34m=\u001b[0m\u001b[0;36m1\u001b[0m\u001b[0;34m)\u001b[0m\u001b[0;34m\u001b[0m\u001b[0m\n",
      "\u001b[0;32m/usr/local/lib/python3.6/site-packages/pandas/core/generic.py\u001b[0m in \u001b[0;36m_take\u001b[0;34m(self, indices, axis, is_copy)\u001b[0m\n\u001b[1;32m   2787\u001b[0m         new_data = self._data.take(indices,\n\u001b[1;32m   2788\u001b[0m                                    \u001b[0maxis\u001b[0m\u001b[0;34m=\u001b[0m\u001b[0mself\u001b[0m\u001b[0;34m.\u001b[0m\u001b[0m_get_block_manager_axis\u001b[0m\u001b[0;34m(\u001b[0m\u001b[0maxis\u001b[0m\u001b[0;34m)\u001b[0m\u001b[0;34m,\u001b[0m\u001b[0;34m\u001b[0m\u001b[0m\n\u001b[0;32m-> 2789\u001b[0;31m                                    verify=True)\n\u001b[0m\u001b[1;32m   2790\u001b[0m         \u001b[0mresult\u001b[0m \u001b[0;34m=\u001b[0m \u001b[0mself\u001b[0m\u001b[0;34m.\u001b[0m\u001b[0m_constructor\u001b[0m\u001b[0;34m(\u001b[0m\u001b[0mnew_data\u001b[0m\u001b[0;34m)\u001b[0m\u001b[0;34m.\u001b[0m\u001b[0m__finalize__\u001b[0m\u001b[0;34m(\u001b[0m\u001b[0mself\u001b[0m\u001b[0;34m)\u001b[0m\u001b[0;34m\u001b[0m\u001b[0m\n\u001b[1;32m   2791\u001b[0m \u001b[0;34m\u001b[0m\u001b[0m\n",
      "\u001b[0;32m/usr/local/lib/python3.6/site-packages/pandas/core/internals.py\u001b[0m in \u001b[0;36mtake\u001b[0;34m(self, indexer, axis, verify, convert)\u001b[0m\n\u001b[1;32m   4537\u001b[0m         \u001b[0mnew_labels\u001b[0m \u001b[0;34m=\u001b[0m \u001b[0mself\u001b[0m\u001b[0;34m.\u001b[0m\u001b[0maxes\u001b[0m\u001b[0;34m[\u001b[0m\u001b[0maxis\u001b[0m\u001b[0;34m]\u001b[0m\u001b[0;34m.\u001b[0m\u001b[0mtake\u001b[0m\u001b[0;34m(\u001b[0m\u001b[0mindexer\u001b[0m\u001b[0;34m)\u001b[0m\u001b[0;34m\u001b[0m\u001b[0m\n\u001b[1;32m   4538\u001b[0m         return self.reindex_indexer(new_axis=new_labels, indexer=indexer,\n\u001b[0;32m-> 4539\u001b[0;31m                                     axis=axis, allow_dups=True)\n\u001b[0m\u001b[1;32m   4540\u001b[0m \u001b[0;34m\u001b[0m\u001b[0m\n\u001b[1;32m   4541\u001b[0m     \u001b[0;32mdef\u001b[0m \u001b[0mmerge\u001b[0m\u001b[0;34m(\u001b[0m\u001b[0mself\u001b[0m\u001b[0;34m,\u001b[0m \u001b[0mother\u001b[0m\u001b[0;34m,\u001b[0m \u001b[0mlsuffix\u001b[0m\u001b[0;34m=\u001b[0m\u001b[0;34m''\u001b[0m\u001b[0;34m,\u001b[0m \u001b[0mrsuffix\u001b[0m\u001b[0;34m=\u001b[0m\u001b[0;34m''\u001b[0m\u001b[0;34m)\u001b[0m\u001b[0;34m:\u001b[0m\u001b[0;34m\u001b[0m\u001b[0m\n",
      "\u001b[0;32m/usr/local/lib/python3.6/site-packages/pandas/core/internals.py\u001b[0m in \u001b[0;36mreindex_indexer\u001b[0;34m(self, new_axis, indexer, axis, fill_value, allow_dups, copy)\u001b[0m\n\u001b[1;32m   4423\u001b[0m             new_blocks = [blk.take_nd(indexer, axis=axis, fill_tuple=(\n\u001b[1;32m   4424\u001b[0m                 fill_value if fill_value is not None else blk.fill_value,))\n\u001b[0;32m-> 4425\u001b[0;31m                 for blk in self.blocks]\n\u001b[0m\u001b[1;32m   4426\u001b[0m \u001b[0;34m\u001b[0m\u001b[0m\n\u001b[1;32m   4427\u001b[0m         \u001b[0mnew_axes\u001b[0m \u001b[0;34m=\u001b[0m \u001b[0mlist\u001b[0m\u001b[0;34m(\u001b[0m\u001b[0mself\u001b[0m\u001b[0;34m.\u001b[0m\u001b[0maxes\u001b[0m\u001b[0;34m)\u001b[0m\u001b[0;34m\u001b[0m\u001b[0m\n",
      "\u001b[0;32m/usr/local/lib/python3.6/site-packages/pandas/core/internals.py\u001b[0m in \u001b[0;36m<listcomp>\u001b[0;34m(.0)\u001b[0m\n\u001b[1;32m   4423\u001b[0m             new_blocks = [blk.take_nd(indexer, axis=axis, fill_tuple=(\n\u001b[1;32m   4424\u001b[0m                 fill_value if fill_value is not None else blk.fill_value,))\n\u001b[0;32m-> 4425\u001b[0;31m                 for blk in self.blocks]\n\u001b[0m\u001b[1;32m   4426\u001b[0m \u001b[0;34m\u001b[0m\u001b[0m\n\u001b[1;32m   4427\u001b[0m         \u001b[0mnew_axes\u001b[0m \u001b[0;34m=\u001b[0m \u001b[0mlist\u001b[0m\u001b[0;34m(\u001b[0m\u001b[0mself\u001b[0m\u001b[0;34m.\u001b[0m\u001b[0maxes\u001b[0m\u001b[0;34m)\u001b[0m\u001b[0;34m\u001b[0m\u001b[0m\n",
      "\u001b[0;32m/usr/local/lib/python3.6/site-packages/pandas/core/internals.py\u001b[0m in \u001b[0;36mtake_nd\u001b[0;34m(self, indexer, axis, new_mgr_locs, fill_tuple)\u001b[0m\n\u001b[1;32m   1256\u001b[0m             \u001b[0mfill_value\u001b[0m \u001b[0;34m=\u001b[0m \u001b[0mfill_tuple\u001b[0m\u001b[0;34m[\u001b[0m\u001b[0;36m0\u001b[0m\u001b[0;34m]\u001b[0m\u001b[0;34m\u001b[0m\u001b[0m\n\u001b[1;32m   1257\u001b[0m             new_values = algos.take_nd(values, indexer, axis=axis,\n\u001b[0;32m-> 1258\u001b[0;31m                                        allow_fill=True, fill_value=fill_value)\n\u001b[0m\u001b[1;32m   1259\u001b[0m \u001b[0;34m\u001b[0m\u001b[0m\n\u001b[1;32m   1260\u001b[0m         \u001b[0;32mif\u001b[0m \u001b[0mnew_mgr_locs\u001b[0m \u001b[0;32mis\u001b[0m \u001b[0;32mNone\u001b[0m\u001b[0;34m:\u001b[0m\u001b[0;34m\u001b[0m\u001b[0m\n",
      "\u001b[0;32m/usr/local/lib/python3.6/site-packages/pandas/core/algorithms.py\u001b[0m in \u001b[0;36mtake_nd\u001b[0;34m(arr, indexer, axis, out, fill_value, mask_info, allow_fill)\u001b[0m\n\u001b[1;32m   1611\u001b[0m             \u001b[0;31m# check for promotion based on types only (do this first because\u001b[0m\u001b[0;34m\u001b[0m\u001b[0;34m\u001b[0m\u001b[0m\n\u001b[1;32m   1612\u001b[0m             \u001b[0;31m# it's faster than computing a mask)\u001b[0m\u001b[0;34m\u001b[0m\u001b[0;34m\u001b[0m\u001b[0m\n\u001b[0;32m-> 1613\u001b[0;31m             \u001b[0mdtype\u001b[0m\u001b[0;34m,\u001b[0m \u001b[0mfill_value\u001b[0m \u001b[0;34m=\u001b[0m \u001b[0mmaybe_promote\u001b[0m\u001b[0;34m(\u001b[0m\u001b[0marr\u001b[0m\u001b[0;34m.\u001b[0m\u001b[0mdtype\u001b[0m\u001b[0;34m,\u001b[0m \u001b[0mfill_value\u001b[0m\u001b[0;34m)\u001b[0m\u001b[0;34m\u001b[0m\u001b[0m\n\u001b[0m\u001b[1;32m   1614\u001b[0m             \u001b[0;32mif\u001b[0m \u001b[0mdtype\u001b[0m \u001b[0;34m!=\u001b[0m \u001b[0marr\u001b[0m\u001b[0;34m.\u001b[0m\u001b[0mdtype\u001b[0m \u001b[0;32mand\u001b[0m \u001b[0;34m(\u001b[0m\u001b[0mout\u001b[0m \u001b[0;32mis\u001b[0m \u001b[0;32mNone\u001b[0m \u001b[0;32mor\u001b[0m \u001b[0mout\u001b[0m\u001b[0;34m.\u001b[0m\u001b[0mdtype\u001b[0m \u001b[0;34m!=\u001b[0m \u001b[0mdtype\u001b[0m\u001b[0;34m)\u001b[0m\u001b[0;34m:\u001b[0m\u001b[0;34m\u001b[0m\u001b[0m\n\u001b[1;32m   1615\u001b[0m                 \u001b[0;31m# check if promotion is actually required based on indexer\u001b[0m\u001b[0;34m\u001b[0m\u001b[0;34m\u001b[0m\u001b[0m\n",
      "\u001b[0;31mKeyboardInterrupt\u001b[0m: "
     ]
    }
   ],
   "source": [
    "stan_data = utils.calc_distances(df, lambda x, y: 1 - eval_f1(x, y), \"label\", \"itemID\")"
   ]
  },
  {
   "cell_type": "code",
   "execution_count": 11,
   "metadata": {},
   "outputs": [
    {
     "data": {
      "text/plain": [
       "{'items': array([  1,   1,   1, ..., 191, 191, 191]),\n",
       " 'u1s': array([35, 35, 35, ..., 14, 14, 35]),\n",
       " 'u2s': array([28, 14, 80, ..., 35, 84, 84]),\n",
       " 'distances': array([0.7       , 1.1       , 0.85      , ..., 0.1       , 0.90645161,\n",
       "        0.90645161]),\n",
       " 'NDATA': 3108,\n",
       " 'NITEMS': 191,\n",
       " 'NUSERS': 91,\n",
       " 'n_gold_users': 0,\n",
       " 'gold_user_err': 0}"
      ]
     },
     "execution_count": 11,
     "metadata": {},
     "output_type": "execute_result"
    }
   ],
   "source": [
    "stan_data"
   ]
  },
  {
   "cell_type": "code",
   "execution_count": 167,
   "metadata": {},
   "outputs": [
    {
     "name": "stderr",
     "output_type": "stream",
     "text": [
      "INFO:pystan:COMPILING THE C++ CODE FOR MODEL anon_model_cbb1bbd57042ad8910e299a20f87153d NOW.\n"
     ]
    },
    {
     "name": "stdout",
     "output_type": "stream",
     "text": [
      "Pickled model not found\n",
      "Compiling model\n",
      "Pickling model\n"
     ]
    }
   ],
   "source": [
    "stan_model = utils.stanmodel(\"mas\", overwrite=True)"
   ]
  },
  {
   "cell_type": "code",
   "execution_count": 13,
   "metadata": {},
   "outputs": [],
   "source": [
    "\n",
    "stan_data[\"use_diff\"] = 0\n",
    "stan_data[\"use_disc\"] = 1\n",
    "stan_data[\"use_norm\"] = 1\n",
    "stan_data[\"norm_ratio\"] = 0.5\n",
    "stan_data[\"norm_ratio\"] = 1\n",
    "stan_data[\"eps_limit\"] = 1\n",
    "stan_data[\"eps_limit\"] = 3\n",
    "stan_data[\"uerr_prior_scale\"] = 1\n",
    "stan_data[\"diff_prior_scale\"] = 1\n",
    "stan_data[\"disc_prior_scale\"] = 1\n",
    "stan_data[\"DIM_SIZE\"] = 8\n",
    "stan_data[\"DIM_SIZE\"] = 8\n",
    "stan_data[\"err_scale\"] = 0.1\n",
    "opt = stan_model.optimizing(data=stan_data,verbose=True,iter=1500)"
   ]
  },
  {
   "cell_type": "code",
   "execution_count": 14,
   "metadata": {},
   "outputs": [
    {
     "data": {
      "image/png": "[encoded data removed]",
      "text/plain": [
       "<Figure size 432x288 with 1 Axes>"
      ]
     },
     "metadata": {},
     "output_type": "display_data"
    }
   ],
   "source": [
    "sddf = pd.DataFrame(stan_data)\n",
    "n1 = sddf.groupby([\"u1s\", \"items\"]).count()[\"distances\"].groupby(\"items\").count()\n",
    "plt.hist(n1)\n",
    "plt.show()\n"
   ]
  },
  {
   "cell_type": "code",
   "execution_count": 15,
   "metadata": {},
   "outputs": [
    {
     "data": {
      "text/plain": [
       "5.0"
      ]
     },
     "execution_count": 15,
     "metadata": {},
     "output_type": "execute_result"
    }
   ],
   "source": [
    "n1.median()"
   ]
  },
  {
   "cell_type": "code",
   "execution_count": 16,
   "metadata": {},
   "outputs": [
    {
     "data": {
      "text/plain": [
       "0.02698135682428876"
      ]
     },
     "execution_count": 16,
     "metadata": {},
     "output_type": "execute_result"
    }
   ],
   "source": [
    "(n1.values / 191).mean()"
   ]
  },
  {
   "cell_type": "code",
   "execution_count": 17,
   "metadata": {},
   "outputs": [
    {
     "data": {
      "text/plain": [
       "(91, 191)"
      ]
     },
     "execution_count": 17,
     "metadata": {},
     "output_type": "execute_result"
    }
   ],
   "source": [
    "stan_data[\"NUSERS\"], stan_data[\"NITEMS\"]"
   ]
  },
  {
   "cell_type": "code",
   "execution_count": null,
   "metadata": {},
   "outputs": [],
   "source": []
  },
  {
   "cell_type": "code",
   "execution_count": 18,
   "metadata": {},
   "outputs": [
    {
     "data": {
      "text/plain": [
       "(array(-0.4334565), array(1.47531359))"
      ]
     },
     "execution_count": 18,
     "metadata": {},
     "output_type": "execute_result"
    }
   ],
   "source": [
    "opt[\"uerr_prior_loc\"], opt[\"diff_prior_loc\"]"
   ]
  },
  {
   "cell_type": "code",
   "execution_count": 19,
   "metadata": {},
   "outputs": [],
   "source": [
    "plt.rcParams.update({'font.size': 20})"
   ]
  },
  {
   "cell_type": "code",
   "execution_count": 20,
   "metadata": {},
   "outputs": [
    {
     "data": {
      "image/png": "[encoded data removed]",
      "text/plain": [
       "<Figure size 432x288 with 1 Axes>"
      ]
     },
     "metadata": {},
     "output_type": "display_data"
    }
   ],
   "source": [
    "plt.scatter(opt[\"pred_distances\"], stan_data[\"distances\"])\n",
    "plt.xlabel(\"predicted distance\")\n",
    "plt.ylabel(\"actual distance\")\n",
    "# plt.title(\"Fit Diagnostic\")\n",
    "plt.show()"
   ]
  },
  {
   "cell_type": "code",
   "execution_count": 21,
   "metadata": {},
   "outputs": [
    {
     "data": {
      "image/png": "[encoded data removed]",
      "text/plain": [
       "<Figure size 432x288 with 1 Axes>"
      ]
     },
     "metadata": {},
     "output_type": "display_data"
    }
   ],
   "source": [
    "uerr_b = experiments.uerr_baseline(stan_data)\n",
    "plt.scatter(opt[\"uerr\"], uerr_b)\n",
    "plt.xlabel(\"inferred $\\gamma$\")\n",
    "plt.ylabel(\"user average distance\")\n",
    "# plt.title(\"User Diagnostic\")\n",
    "plt.show()"
   ]
  },
  {
   "cell_type": "code",
   "execution_count": 22,
   "metadata": {},
   "outputs": [
    {
     "data": {
      "image/png": "[encoded data removed]",
      "text/plain": [
       "<Figure size 432x288 with 1 Axes>"
      ]
     },
     "metadata": {},
     "output_type": "display_data"
    }
   ],
   "source": [
    "diff_b = sddf.groupby(\"items\").mean()[\"distances\"].to_dict()\n",
    "diff_m = dict([(i+1, v) for i, v in enumerate(opt[\"disc\"]) if i+1 in diff_b.keys()])\n",
    "plt.scatter(diff_m.values(), diff_b.values())\n",
    "plt.xlabel(\"inferred $\\delta$\")\n",
    "plt.ylabel(\"item average distance\")\n",
    "# plt.title(\"Item Diagnostic\")\n",
    "plt.show()"
   ]
  },
  {
   "cell_type": "code",
   "execution_count": 23,
   "metadata": {},
   "outputs": [
    {
     "data": {
      "image/png": "[encoded data removed]",
      "text/plain": [
       "<Figure size 432x288 with 1 Axes>"
      ]
     },
     "metadata": {},
     "output_type": "display_data"
    },
    {
     "data": {
      "image/png": "[encoded data removed]",
      "text/plain": [
       "<Figure size 432x288 with 1 Axes>"
      ]
     },
     "metadata": {},
     "output_type": "display_data"
    }
   ],
   "source": [
    "plt.hist(opt[\"uerr\"])\n",
    "plt.show()\n",
    "plt.hist(opt[\"disc\"])\n",
    "plt.show()"
   ]
  },
  {
   "cell_type": "code",
   "execution_count": 24,
   "metadata": {},
   "outputs": [
    {
     "data": {
      "image/png": "[encoded data removed]",
      "text/plain": [
       "<Figure size 432x288 with 1 Axes>"
      ]
     },
     "metadata": {},
     "output_type": "display_data"
    }
   ],
   "source": [
    "per_item_user_rankings = experiments.get_model_user_rankings(opt, debug=True)"
   ]
  },
  {
   "cell_type": "code",
   "execution_count": 25,
   "metadata": {},
   "outputs": [],
   "source": [
    "uerr_penalties = dict(enumerate(opt[\"uerr\"]))\n",
    "idiff_penalties = dict(enumerate(opt[\"diff\"]))"
   ]
  },
  {
   "cell_type": "code",
   "execution_count": 26,
   "metadata": {},
   "outputs": [],
   "source": [
    "experiments.run_square(df, \"uid\", \"itemID\", \"label\")"
   ]
  },
  {
   "cell_type": "code",
   "execution_count": 27,
   "metadata": {},
   "outputs": [],
   "source": [
    "model4 = experiments.get_preds(df, per_item_user_rankings, \"label\", \"itemID\")"
   ]
  },
  {
   "cell_type": "code",
   "execution_count": null,
   "metadata": {},
   "outputs": [],
   "source": [
    "model4"
   ]
  },
  {
   "cell_type": "code",
   "execution_count": 28,
   "metadata": {},
   "outputs": [],
   "source": [
    "x = [555, 565, 580, 578, 553, 549, 560, 577, 538, 542, 580, 559]"
   ]
  },
  {
   "cell_type": "code",
   "execution_count": 29,
   "metadata": {},
   "outputs": [
    {
     "data": {
      "text/plain": [
       "569.3"
      ]
     },
     "execution_count": 29,
     "metadata": {},
     "output_type": "execute_result"
    }
   ],
   "source": [
    "np.mean(np.random.choice(x, 10))"
   ]
  },
  {
   "cell_type": "code",
   "execution_count": 38,
   "metadata": {},
   "outputs": [],
   "source": [
    "random = experiments.get_baseline_random(df, \"label\", \"itemID\")\n",
    "faveu = experiments.get_baseline_global_best_user(stan_data, df, \"label\", \"itemID\")\n",
    "center = experiments.get_baseline_item_centrallest(stan_data, df, \"label\", \"itemID\")\n",
    "oracle = experiments.get_oracle_preds(stan_data, df, \"label\", \"itemID\", \"uid\", eval_f1, gold_labels)\n"
   ]
  },
  {
   "cell_type": "code",
   "execution_count": 39,
   "metadata": {
    "scrolled": true
   },
   "outputs": [
    {
     "name": "stdout",
     "output_type": "stream",
     "text": [
      "MAJORITY VOTE\n",
      "0.5543734388576609 0.647381291455938\n",
      "t-test Ttest_relResult(statistic=-5.735957400883632, pvalue=3.8427921800042765e-08)\n",
      "z-score 0.419454747323413\n",
      "baseline below thresh 0.0\n",
      "model below thresh 0.0\n",
      "FAVORITE USER\n",
      "0.5543734388576609 0.660298465842276\n",
      "t-test Ttest_relResult(statistic=-6.008471250939573, pvalue=9.59190846975547e-09)\n",
      "z-score 0.4393829336972755\n",
      "baseline below thresh 0.0\n",
      "model below thresh 0.0\n",
      "SMALLEST DISTANCE\n",
      "0.5543734388576609 0.6579462505193934\n",
      "t-test Ttest_relResult(statistic=-6.514728818322536, pvalue=6.555515028127674e-10)\n",
      "z-score 0.4764041535505599\n",
      "baseline below thresh 0.0\n",
      "model below thresh 0.0\n",
      "MULTIDIMENSIONAL SCALING\n",
      "0.5543734388576609 0.7008904643536594\n",
      "t-test Ttest_relResult(statistic=-7.691158597775613, pvalue=8.08021254659687e-13)\n",
      "z-score 0.5624332192141596\n",
      "baseline below thresh 0.0\n",
      "model below thresh 0.0\n",
      "HMM\n",
      "0.5543734388576609 0.6972259823199564\n",
      "t-test Ttest_relResult(statistic=-7.649469359663673, pvalue=1.034625190243068e-12)\n",
      "z-score 0.5593846001927464\n",
      "baseline below thresh 0.0\n",
      "model below thresh 0.0\n",
      "ORACLE\n",
      "0.5543734388576609 0.8242364052368888\n",
      "t-test Ttest_relResult(statistic=-15.75619494036421, pvalue=3.802281604891862e-36)\n",
      "z-score 1.1522070869059768\n",
      "baseline below thresh 0.0\n",
      "model below thresh 0.0\n"
     ]
    },
    {
     "data": {
      "text/plain": [
       "([0.5,\n",
       "  0.5414012738853504,\n",
       "  0.6842105263157895,\n",
       "  0.7465181058495822,\n",
       "  0.4,\n",
       "  0.5,\n",
       "  0.6666666666666666,\n",
       "  0.9578947368421054,\n",
       "  0.6468085106382979,\n",
       "  0.8,\n",
       "  0.37970540098199673,\n",
       "  0.75,\n",
       "  0.8205128205128205,\n",
       "  0.475110380053675,\n",
       "  1.0,\n",
       "  0.18099991041173713,\n",
       "  0.7513812154696131,\n",
       "  0.3879598662207358,\n",
       "  0.6051282051282051,\n",
       "  0.6571428571428571,\n",
       "  0.31066787549108493,\n",
       "  0.5,\n",
       "  0.4661487236403996,\n",
       "  1.0,\n",
       "  0.30340557275541796,\n",
       "  0.6666666666666666,\n",
       "  0.7323730098559514,\n",
       "  0.6666666666666666,\n",
       "  0.5114498503514999,\n",
       "  0.4444444444444444,\n",
       "  0.8571428571428571,\n",
       "  0.75,\n",
       "  0.4,\n",
       "  0.43271390455532815,\n",
       "  0.9302325581395349,\n",
       "  0.2994350282485876,\n",
       "  0.7564847922113533,\n",
       "  0.22669104204753202,\n",
       "  0.8852459016393444,\n",
       "  0,\n",
       "  1.0,\n",
       "  0.6666666666666666,\n",
       "  0.5,\n",
       "  0.5,\n",
       "  0,\n",
       "  0.4,\n",
       "  0.5,\n",
       "  0.6687306501547988,\n",
       "  0.4,\n",
       "  0.6820603907637655,\n",
       "  0.0723404255319149,\n",
       "  0.25,\n",
       "  1.0,\n",
       "  0.6217006504846029,\n",
       "  0.8434504792332267,\n",
       "  0.8210725924796555,\n",
       "  0.6666666666666666,\n",
       "  0.12903225806451613,\n",
       "  0.6666666666666666,\n",
       "  0.4,\n",
       "  0.6269430051813472,\n",
       "  0.48915419260829246,\n",
       "  0.5,\n",
       "  0.18181818181818182,\n",
       "  0.6157429696309512,\n",
       "  0.5,\n",
       "  0.6449511400651465,\n",
       "  0.4,\n",
       "  0.9920283436669619,\n",
       "  0.6645010046885464,\n",
       "  0.2857142857142857,\n",
       "  0.4882744546534426,\n",
       "  0.5,\n",
       "  0.5656611220749929,\n",
       "  0.7949526813880127,\n",
       "  0.2808219178082192,\n",
       "  0.20512820512820512,\n",
       "  0.6666666666666666,\n",
       "  0.5,\n",
       "  0.09566903684550744,\n",
       "  0.5358637292714173,\n",
       "  0.75,\n",
       "  0.6286286286286287,\n",
       "  0.6666647807876399,\n",
       "  0.5,\n",
       "  0.5714285714285715,\n",
       "  0.8,\n",
       "  0.5,\n",
       "  0.5534781413252681,\n",
       "  0.451063829787234,\n",
       "  1.0,\n",
       "  0.43750000000000006,\n",
       "  0.15555555555555553,\n",
       "  0.1449569183983781,\n",
       "  0.8571428571428571,\n",
       "  0.7977991746905088,\n",
       "  0.4,\n",
       "  0.4,\n",
       "  0.25287356321839083,\n",
       "  0.38518518518518524,\n",
       "  0.5,\n",
       "  0.4,\n",
       "  0.8,\n",
       "  0.6666666666666666,\n",
       "  0.378698224852071,\n",
       "  0.7265779907202586,\n",
       "  0.8113879003558718,\n",
       "  0.33333333333333337,\n",
       "  0.19156894111148196,\n",
       "  0.6701665095246377,\n",
       "  0.25,\n",
       "  0.6666666666666666,\n",
       "  1.0,\n",
       "  0.5774236836920086,\n",
       "  0.4629080118694362,\n",
       "  0.6437346437346437,\n",
       "  0.33333333333333337,\n",
       "  1.0,\n",
       "  0.48906560636182894,\n",
       "  0.07407407407407407,\n",
       "  0.7544453852667231,\n",
       "  0.6666666666666666,\n",
       "  0,\n",
       "  0.5,\n",
       "  0.5985167368210063,\n",
       "  0.5,\n",
       "  0.28571428571428575,\n",
       "  1.0,\n",
       "  0.8450588717708394,\n",
       "  0.125,\n",
       "  0.6666666666666666,\n",
       "  1.0,\n",
       "  0.5797203584242957,\n",
       "  0.48072562358276644,\n",
       "  0.6666666666666666,\n",
       "  0.300556586270872,\n",
       "  1.0,\n",
       "  0.4901117798796216,\n",
       "  0.20975160993560255,\n",
       "  1.0,\n",
       "  0.34530860780514805,\n",
       "  0.9477351916376306,\n",
       "  0.6836630634305527,\n",
       "  0.7146171693735499,\n",
       "  1.0,\n",
       "  0.5,\n",
       "  0.21804511278195488,\n",
       "  0.5767366720516963,\n",
       "  0.33333333333333337,\n",
       "  0.5,\n",
       "  0.7499999999999999,\n",
       "  0.6666666666666666,\n",
       "  0.555557605386957,\n",
       "  0.6541013472481501,\n",
       "  0.6486486486486487,\n",
       "  0.4444444444444445,\n",
       "  0.6154401154401153,\n",
       "  0.4,\n",
       "  0.6666666666666666,\n",
       "  0.5714285714285715,\n",
       "  0.5624553890078515,\n",
       "  0.265335741942518,\n",
       "  0.26217228464419473,\n",
       "  0.5621206186129305,\n",
       "  0.4,\n",
       "  0.4147465437788018,\n",
       "  0.7315801695662271,\n",
       "  0.5,\n",
       "  0.8571428571428571,\n",
       "  0.5,\n",
       "  0.6666666666666666,\n",
       "  0.3333333333333333,\n",
       "  0.3961217301832285,\n",
       "  0.758116883116883,\n",
       "  0.827144002137323,\n",
       "  0,\n",
       "  0.35641849962519156,\n",
       "  0.8571428571428571,\n",
       "  0.7552114353782013,\n",
       "  1.0,\n",
       "  0.6705554146588891,\n",
       "  0.7875968992248062,\n",
       "  0.1919504643962848,\n",
       "  0.14218009478672988,\n",
       "  0.7084870848708488,\n",
       "  0.10526315789473682,\n",
       "  0.35388739946380693,\n",
       "  0.6532119773117002],\n",
       " [0.7499999999999999,\n",
       "  1.0,\n",
       "  0.7878787878787877,\n",
       "  1.0,\n",
       "  0.9355198277002135,\n",
       "  1.0,\n",
       "  1.0,\n",
       "  0.9578947368421054,\n",
       "  0.6666666666666666,\n",
       "  0.934010152284264,\n",
       "  1.0,\n",
       "  1.0,\n",
       "  1.0,\n",
       "  0.8513966480446927,\n",
       "  1.0,\n",
       "  0.7274787535410766,\n",
       "  1.0,\n",
       "  1.0,\n",
       "  0.8044496487119438,\n",
       "  1.0,\n",
       "  0.8502283550311246,\n",
       "  1.0,\n",
       "  1.0,\n",
       "  1.0,\n",
       "  1.0,\n",
       "  1.0,\n",
       "  0.7323730098559514,\n",
       "  1.0,\n",
       "  0.8567004988818167,\n",
       "  0.7275307155874461,\n",
       "  0.8571428571428571,\n",
       "  0.75,\n",
       "  0.4,\n",
       "  0.6260332174584782,\n",
       "  0.9302325581395349,\n",
       "  0.5,\n",
       "  0.7564847922113533,\n",
       "  0.5732142857142858,\n",
       "  0.8852459016393444,\n",
       "  0.45045045045045046,\n",
       "  1.0,\n",
       "  0.7830639306049142,\n",
       "  0.5714285714285715,\n",
       "  1.0,\n",
       "  0.7636363636363637,\n",
       "  0.728653454343397,\n",
       "  1.0,\n",
       "  0.8804363427587196,\n",
       "  1.0,\n",
       "  0.6820603907637655,\n",
       "  1.0,\n",
       "  0.9561364414042441,\n",
       "  1.0,\n",
       "  0.6217006504846029,\n",
       "  0.8434504792332267,\n",
       "  1.0,\n",
       "  0.8571428571428571,\n",
       "  0.6988636406407461,\n",
       "  0.8,\n",
       "  0.7732463295269169,\n",
       "  0.6269430051813472,\n",
       "  0.7888040712468194,\n",
       "  0.7425249169435215,\n",
       "  0.8083475748624112,\n",
       "  0.6157429696309512,\n",
       "  0.8907563025210083,\n",
       "  0.9765258215962441,\n",
       "  1.0,\n",
       "  0.9920283436669619,\n",
       "  0.8571428571428571,\n",
       "  0.7351287811999355,\n",
       "  0.6653061224489796,\n",
       "  1.0,\n",
       "  0.6666666666666666,\n",
       "  0.8901734104046243,\n",
       "  0.6666666666666666,\n",
       "  0.6666666666666666,\n",
       "  0.6666666666666666,\n",
       "  1.0,\n",
       "  0.8518155053974485,\n",
       "  0.7320441988950276,\n",
       "  0.75,\n",
       "  0.6286286286286287,\n",
       "  0.9198756108396268,\n",
       "  1.0,\n",
       "  0.7358490566037735,\n",
       "  0.8,\n",
       "  0.5025052996723839,\n",
       "  0.5534781413252681,\n",
       "  0.7272727272727273,\n",
       "  1.0,\n",
       "  0.7196531791907516,\n",
       "  1.0,\n",
       "  0.7807974608212656,\n",
       "  1.0,\n",
       "  0.7977991746905088,\n",
       "  0.4,\n",
       "  0.8465116279069768,\n",
       "  0.7499999999999999,\n",
       "  0.8238954873168503,\n",
       "  0.8571428571428571,\n",
       "  0.4,\n",
       "  1.0,\n",
       "  1.0,\n",
       "  0.888888888888889,\n",
       "  0.7272727272727273,\n",
       "  1.0,\n",
       "  1.0,\n",
       "  0.7347826086956522,\n",
       "  0.6701665095246377,\n",
       "  0.6930481283422459,\n",
       "  1.0,\n",
       "  1.0,\n",
       "  0.5774236836920086,\n",
       "  0.5425915386074749,\n",
       "  0.6666666666666666,\n",
       "  0.8530259365994237,\n",
       "  1.0,\n",
       "  0.8711445672753924,\n",
       "  0.6,\n",
       "  0.924731182795699,\n",
       "  0.8,\n",
       "  0.9097345132743363,\n",
       "  0.7499999999999999,\n",
       "  0.6610169491525423,\n",
       "  0.8,\n",
       "  0.5265588914549653,\n",
       "  1.0,\n",
       "  1.0,\n",
       "  1.0,\n",
       "  0.6666666666666666,\n",
       "  1.0,\n",
       "  0.7975757575757576,\n",
       "  0.48072562358276644,\n",
       "  0.6666666666666666,\n",
       "  1.0,\n",
       "  1.0,\n",
       "  0.8376123234916559,\n",
       "  0.6,\n",
       "  1.0,\n",
       "  0.6054686044495998,\n",
       "  1.0,\n",
       "  0.9979123173277662,\n",
       "  0.9169675090252708,\n",
       "  1.0,\n",
       "  0.8699551569506726,\n",
       "  1.0,\n",
       "  0.8,\n",
       "  0.8000000000000002,\n",
       "  0.5,\n",
       "  0.7499999999999999,\n",
       "  1.0,\n",
       "  0.6135605779918488,\n",
       "  0.809371271205487,\n",
       "  0.9258517034068137,\n",
       "  0.5060240963855421,\n",
       "  0.8571428571428571,\n",
       "  1.0,\n",
       "  0.8571428571428571,\n",
       "  0.7647457627118645,\n",
       "  0.9010189207625748,\n",
       "  0.7211678832116788,\n",
       "  0.6666666666666666,\n",
       "  0.888514580482156,\n",
       "  0.6666666666666666,\n",
       "  0.8,\n",
       "  0.7315801695662271,\n",
       "  0.687872763419483,\n",
       "  0.888888888888889,\n",
       "  0.6666666666666666,\n",
       "  1.0,\n",
       "  0.8571428571428571,\n",
       "  0.7916666666666666,\n",
       "  0.9714285714285714,\n",
       "  1.0,\n",
       "  0.8,\n",
       "  1.0,\n",
       "  0.8571428571428571,\n",
       "  0.9423375845084929,\n",
       "  1.0,\n",
       "  0.8723021582733813,\n",
       "  0.7875968992248062,\n",
       "  0.6503067484662577,\n",
       "  0.6666666666666666,\n",
       "  1.0,\n",
       "  0.5714285714285715,\n",
       "  0.8448277383210552,\n",
       "  0.8])"
      ]
     },
     "execution_count": 39,
     "metadata": {},
     "output_type": "execute_result"
    }
   ],
   "source": [
    "print(\"MAJORITY VOTE\")\n",
    "experiments.eval_preds_vs(random, mv_labels, gold_labels, eval_f1)\n",
    "print(\"FAVORITE USER\")\n",
    "experiments.eval_preds_vs(random, faveu, gold_labels, eval_f1)\n",
    "print(\"SMALLEST DISTANCE\")\n",
    "experiments.eval_preds_vs(random, center, gold_labels, eval_f1)\n",
    "print(\"MULTIDIMENSIONAL SCALING\")\n",
    "experiments.eval_preds_vs(random, model4, gold_labels, eval_f1)\n",
    "print(\"HMM\")\n",
    "experiments.eval_preds_vs(random, hmm_labels, gold_labels, eval_f1)\n",
    "print(\"ORACLE\")\n",
    "experiments.eval_preds_vs(random, oracle, gold_labels, eval_f1)"
   ]
  },
  {
   "cell_type": "code",
   "execution_count": 42,
   "metadata": {},
   "outputs": [],
   "source": [
    "# experiments.eval_preds_vs(model4, hmm_labels, gold_labels, eval_f1)"
   ]
  },
  {
   "cell_type": "code",
   "execution_count": null,
   "metadata": {},
   "outputs": [],
   "source": []
  },
  {
   "cell_type": "code",
   "execution_count": null,
   "metadata": {},
   "outputs": [],
   "source": []
  },
  {
   "cell_type": "code",
   "execution_count": 209,
   "metadata": {},
   "outputs": [],
   "source": [
    "sequence_experiment = experiments.RealExperiment(eval_f1, \"label\", \"itemID\", \"uid\")\n",
    "sequence_experiment.annodf = df.copy()\n",
    "sequence_experiment.golddict = gold_labels\n",
    "# sequence_experiment.produce_stan_data()"
   ]
  },
  {
   "cell_type": "code",
   "execution_count": 210,
   "metadata": {},
   "outputs": [
    {
     "name": "stderr",
     "output_type": "stream",
     "text": [
      "100%|██████████| 191/191 [00:03<00:00, 62.63it/s]\n"
     ]
    }
   ],
   "source": [
    "sequence_experiment.set_supervised_labels(30)"
   ]
  },
  {
   "cell_type": "code",
   "execution_count": null,
   "metadata": {},
   "outputs": [],
   "source": [
    "sequence_experiment.train(iter=1500)"
   ]
  },
  {
   "cell_type": "code",
   "execution_count": null,
   "metadata": {},
   "outputs": [],
   "source": [
    "np.exp(sequence_experiment.opt[\"disc_prior_loc\"])"
   ]
  },
  {
   "cell_type": "code",
   "execution_count": null,
   "metadata": {},
   "outputs": [],
   "source": [
    "sequence_experiment.test(debug=True)"
   ]
  },
  {
   "cell_type": "code",
   "execution_count": null,
   "metadata": {},
   "outputs": [],
   "source": [
    "sequence_experiment.opt[\"uerr\"]"
   ]
  },
  {
   "cell_type": "code",
   "execution_count": null,
   "metadata": {
    "scrolled": true
   },
   "outputs": [],
   "source": [
    "sequence_experiment.debug(plot_vs_gold=True)"
   ]
  },
  {
   "cell_type": "code",
   "execution_count": null,
   "metadata": {},
   "outputs": [],
   "source": []
  },
  {
   "cell_type": "code",
   "execution_count": null,
   "metadata": {},
   "outputs": [],
   "source": []
  },
  {
   "cell_type": "code",
   "execution_count": 29,
   "metadata": {},
   "outputs": [],
   "source": [
    "# def seq_agg_fn(idf, uerrs):\n",
    "#     ulabels = {}\n",
    "#     full_labelset = set()\n",
    "#     uerr_denom = np.sum(np.exp(-uerrs.values))\n",
    "#     for row in idf.iterrows():\n",
    "#         labelset = labels2set(row[1][\"label\"])\n",
    "#         ulabels[row[1][\"uid\"]] = labelset\n",
    "#         full_labelset = full_labelset.union(labelset)\n",
    "#     iscores = np.zeros(np.max(list(full_labelset)) + 1)\n",
    "#     for i in full_labelset:\n",
    "#         for u, val in ulabels.items():\n",
    "#             if i in val:\n",
    "#                 iscores[i] += np.exp(-uerrs[u+1]) / uerr_denom\n",
    "#     result = list2ranges(np.where(iscores >= 0.5)[0])\n",
    "#     return result"
   ]
  },
  {
   "cell_type": "code",
   "execution_count": null,
   "metadata": {},
   "outputs": [],
   "source": []
  },
  {
   "cell_type": "code",
   "execution_count": 30,
   "metadata": {},
   "outputs": [],
   "source": [
    "# model_agg50 = experiments.get_baseline_item_centrallest(stan_data, df, \"label\", \"itemID\", \"uid\",\n",
    "#                                                 uerr_penalties, idiff_penalties, seq_agg_fn)"
   ]
  },
  {
   "cell_type": "code",
   "execution_count": 31,
   "metadata": {},
   "outputs": [],
   "source": [
    "# model_agg = experiments.get_baseline_item_centrallest(stan_data, df, \"label\", \"itemID\", \"uid\",\n",
    "#                                                 uerr_penalties, idiff_penalties, seq_agg_fn)"
   ]
  },
  {
   "cell_type": "code",
   "execution_count": 32,
   "metadata": {},
   "outputs": [],
   "source": [
    "# experiments.eval_preds(mv_labels, model4, gold_labels, eval_f1)\n",
    "# # experiments.eval_preds(ds_labels, model4, gold_labels, eval_f1)\n",
    "# experiments.eval_preds(hmm_labels, model4, gold_labels, eval_f1)"
   ]
  },
  {
   "cell_type": "code",
   "execution_count": 33,
   "metadata": {},
   "outputs": [
    {
     "data": {
      "text/plain": [
       "{0: [[5, 44],\n",
       "  [61, 135],\n",
       "  [253, 294],\n",
       "  [362, 421],\n",
       "  [568, 580],\n",
       "  [659, 859],\n",
       "  [1103, 1123]],\n",
       " 1: [[0, 60], [60, 769]],\n",
       " 2: [[198, 218]],\n",
       " 3: [[191, 257], [259, 313], [1440, 1487]],\n",
       " 4: [[454, 485], [948, 972]],\n",
       " 5: [[372, 406]],\n",
       " 6: [[341, 435]],\n",
       " 7: [[85, 108], [111, 160], [347, 388], [419, 474], [1590, 1611]],\n",
       " 8: [[29, 58], [129, 177], [189, 215]],\n",
       " 9: [[220, 257]],\n",
       " 10: [[313, 363]],\n",
       " 11: [[231, 289]],\n",
       " 12: [[201, 221]],\n",
       " 13: [[67, 109], [506, 514], [609, 655]],\n",
       " 14: [[349, 390]],\n",
       " 15: [[258, 837]],\n",
       " 16: [[78, 311], [357, 368], [854, 876]],\n",
       " 17: [[55, 112], [606, 617]],\n",
       " 18: [[249, 389]],\n",
       " 19: [[55, 100], [183, 218]],\n",
       " 20: [[1071, 1225], [1426, 1465]],\n",
       " 21: [[220, 293]],\n",
       " 22: [[307, 415]],\n",
       " 23: [[17, 33], [221, 248]],\n",
       " 24: [[126, 142], [242, 268], [324, 345], [1181, 1204]],\n",
       " 25: [[45, 62], [188, 224], [266, 277], [428, 465]],\n",
       " 26: [[19, 36], [155, 206], [611, 641]],\n",
       " 27: [[0, 98], [98, 176], [222, 276], [296, 362], [673, 696]],\n",
       " 28: [[337, 361], [1973, 2012]],\n",
       " 29: [[70, 98]],\n",
       " 30: [[357, 418],\n",
       "  [419, 591],\n",
       "  [671, 759],\n",
       "  [788, 855],\n",
       "  [873, 1053],\n",
       "  [1070, 1232],\n",
       "  [1233, 1264],\n",
       "  [1441, 1510],\n",
       "  [1274, 1416]],\n",
       " 31: [[127, 171],\n",
       "  [641, 695],\n",
       "  [935, 1038],\n",
       "  [1039, 1093],\n",
       "  [1929, 1940],\n",
       "  [1974, 1996]],\n",
       " 32: [[133, 159], [332, 398], [488, 535], [1614, 1806]],\n",
       " 33: [[233, 249]],\n",
       " 34: [[0, 23], [325, 356], [404, 694]],\n",
       " 35: [[691, 716], [717, 767]],\n",
       " 36: [[406, 422], [27, 43], [375, 391], [996, 1012]],\n",
       " 37: [[805, 965]],\n",
       " 38: [[590, 651]],\n",
       " 39: [[198, 254], [59, 78]],\n",
       " 40: [[766, 795]],\n",
       " 41: [[93, 144]],\n",
       " 42: [[35, 75], [217, 265]],\n",
       " 43: [[59, 89], [496, 532], [779, 900]],\n",
       " 44: [[0, 177], [177, 1906]],\n",
       " 45: [[12, 44], [156, 189], [202, 213], [266, 293]],\n",
       " 46: [[0, 67], [169, 334], [570, 627], [628, 682], [1124, 1137], [1395, 1446]],\n",
       " 47: [[78, 108], [122, 145], [411, 422]],\n",
       " 48: [[55, 94],\n",
       "  [427, 465],\n",
       "  [466, 551],\n",
       "  [874, 894],\n",
       "  [1254, 1269],\n",
       "  [1647, 1685]],\n",
       " 49: [[247, 282]],\n",
       " 50: [[120, 178], [525, 564]],\n",
       " 51: [[22, 42], [103, 116], [262, 411], [1385, 1405]],\n",
       " 52: [[423, 471], [59, 81]],\n",
       " 53: [[624, 678], [1232, 1336], [1337, 1407], [1451, 1491]],\n",
       " 54: [[570, 668], [1541, 1558], [64, 104], [244, 290], [316, 337]],\n",
       " 55: [[98, 134], [220, 248], [342, 389], [1105, 1163]],\n",
       " 56: [[82, 145], [463, 535], [1865, 1925]],\n",
       " 57: [[51, 71], [428, 462], [530, 573], [1413, 1446]],\n",
       " 58: [[957, 968], [1381, 1438], [258, 279]],\n",
       " 59: [[60, 95]],\n",
       " 60: [[426, 493]],\n",
       " 61: [[169, 205], [214, 228]],\n",
       " 62: [[71, 101], [262, 309], [811, 925]],\n",
       " 63: [[53, 100], [102, 116], [245, 336], [484, 544]],\n",
       " 64: [[93, 130],\n",
       "  [42, 79],\n",
       "  [271, 306],\n",
       "  [332, 360],\n",
       "  [480, 510],\n",
       "  [631, 843],\n",
       "  [2760, 2774]],\n",
       " 65: [[764, 945], [1394, 1432]],\n",
       " 66: [[97, 118]],\n",
       " 67: [[471, 579]],\n",
       " 68: [[261, 309]],\n",
       " 69: [[47, 92], [230, 342], [416, 570]],\n",
       " 70: [[224, 348], [370, 417], [700, 725]],\n",
       " 71: [[0, 22], [81, 92], [94, 144], [648, 736], [764, 938], [1494, 1523]],\n",
       " 72: [[36, 58], [277, 315], [92, 255]],\n",
       " 73: [[239, 293]],\n",
       " 74: [[321, 401], [209, 312]],\n",
       " 75: [[31, 102], [386, 443], [104, 243]],\n",
       " 76: [[210, 250], [38, 61], [840, 969], [820, 839]],\n",
       " 77: [[294, 341]],\n",
       " 78: [[389, 434]],\n",
       " 79: [[474, 545], [658, 737], [871, 927], [928, 1031]],\n",
       " 80: [[368, 395], [422, 533]],\n",
       " 81: [[32, 67],\n",
       "  [110, 131],\n",
       "  [591, 608],\n",
       "  [482, 500],\n",
       "  [1554, 1586],\n",
       "  [1748, 1783]],\n",
       " 82: [[442, 568]],\n",
       " 83: [[855, 923], [947, 1057]],\n",
       " 84: [[86, 124], [289, 386], [408, 456], [957, 969], [1863, 1891]],\n",
       " 85: [[417, 447]],\n",
       " 86: [[79, 107], [306, 367], [393, 504]],\n",
       " 87: [[115, 124], [134, 316], [819, 842], [492, 531]],\n",
       " 88: [[747, 779]],\n",
       " 89: [[258, 291], [483, 491], [610, 618]],\n",
       " 90: [[26, 45],\n",
       "  [301, 320],\n",
       "  [822, 841],\n",
       "  [940, 979],\n",
       "  [190, 229],\n",
       "  [369, 387],\n",
       "  [601, 614]],\n",
       " 91: [[49, 68],\n",
       "  [91, 123],\n",
       "  [242, 296],\n",
       "  [324, 462],\n",
       "  [467, 533],\n",
       "  [541, 595],\n",
       "  [600, 689]],\n",
       " 92: [[263, 352]],\n",
       " 93: [[38, 68], [322, 352], [361, 381], [526, 618], [1504, 1531]],\n",
       " 94: [[889, 905], [1030, 1155]],\n",
       " 95: [[100, 124], [263, 290], [299, 345], [1517, 1544]],\n",
       " 96: [[77, 158]],\n",
       " 97: [[47, 61], [850, 858], [1211, 1216], [933, 938], [790, 795]],\n",
       " 98: [[71, 99], [216, 256], [556, 589], [605, 707]],\n",
       " 99: [[344, 397], [87, 109], [779, 800], [1068, 1087], [1183, 1205]],\n",
       " 100: [[381, 489]],\n",
       " 101: [[273, 489], [595, 653]],\n",
       " 102: [[669, 686], [695, 713]],\n",
       " 103: [[460, 491], [492, 531], [595, 668]],\n",
       " 104: [[94, 128], [305, 339], [1129, 1154]],\n",
       " 105: [[210, 241], [313, 376]],\n",
       " 106: [[497, 539], [461, 496], [1983, 2009]],\n",
       " 107: [[49, 81], [238, 275], [437, 464]],\n",
       " 108: [[3, 23], [335, 356]],\n",
       " 109: [[830, 838]],\n",
       " 110: [[632, 695], [720, 791]],\n",
       " 111: [[388, 432]],\n",
       " 112: [[477, 526], [776, 832], [1652, 1674], [1567, 1587]],\n",
       " 113: [[816, 842]],\n",
       " 114: [[73, 123]],\n",
       " 115: [[206, 224], [278, 310], [860, 904], [985, 999], [1650, 1739]],\n",
       " 116: [[103, 161], [716, 737]],\n",
       " 117: [[859, 989]],\n",
       " 118: [[194, 232], [795, 811], [651, 756], [830, 855]],\n",
       " 119: [[139, 196]],\n",
       " 120: [[45, 63], [159, 176], [265, 338], [383, 440], [898, 1032]],\n",
       " 121: [[75, 129], [370, 413], [568, 627], [1073, 1097]],\n",
       " 122: [[84, 146], [658, 708]],\n",
       " 123: [[506, 587],\n",
       "  [721, 737],\n",
       "  [745, 760],\n",
       "  [950, 958],\n",
       "  [1397, 1445],\n",
       "  [1492, 1518],\n",
       "  [1523, 1556],\n",
       "  [1645, 1670],\n",
       "  [1708, 1722]],\n",
       " 124: [[1113, 1315]],\n",
       " 125: [[330, 361]],\n",
       " 126: [[0, 81], [92, 129], [225, 270], [337, 356], [383, 452], [528, 549]],\n",
       " 127: [[94, 119], [601, 664], [900, 944]],\n",
       " 128: [[292, 362], [437, 582], [1467, 1520]],\n",
       " 129: [[70, 95], [178, 217], [283, 295], [1310, 1331]],\n",
       " 130: [[114, 143], [452, 498], [2237, 2275]],\n",
       " 131: [[93, 108], [263, 278], [298, 315], [2353, 2368]],\n",
       " 132: [[799, 825]],\n",
       " 133: [[37, 60], [200, 222], [474, 478], [1156, 1163]],\n",
       " 134: [[144, 190], [665, 715], [2479, 2526]],\n",
       " 135: [[96, 110], [847, 887]],\n",
       " 136: [[88, 110], [374, 474]],\n",
       " 137: [[1075, 1155]],\n",
       " 138: [[545, 599], [250, 272]],\n",
       " 139: [[32, 74], [254, 303], [312, 442], [547, 627]],\n",
       " 140: [[730, 889]],\n",
       " 141: [[353, 366]],\n",
       " 142: [[488, 554], [698, 755]],\n",
       " 143: [[405, 555]],\n",
       " 144: [[364, 396], [773, 889]],\n",
       " 145: [[0, 116], [116, 435], [435, 886], [886, 1558], [1558, 1759]],\n",
       " 146: [[81, 118], [217, 266], [696, 744]],\n",
       " 147: [[59, 149],\n",
       "  [258, 298],\n",
       "  [709, 765],\n",
       "  [1279, 1333],\n",
       "  [1402, 1460],\n",
       "  [1868, 2056]],\n",
       " 148: [[294, 339], [555, 575]],\n",
       " 149: [[45, 87], [183, 250], [269, 409], [1705, 1725]],\n",
       " 150: [[37, 106], [555, 607]],\n",
       " 151: [[181, 250],\n",
       "  [629, 692],\n",
       "  [779, 928],\n",
       "  [983, 1087],\n",
       "  [1136, 1463],\n",
       "  [1514, 1674]],\n",
       " 152: [[88, 129], [368, 389]],\n",
       " 153: [[49, 103], [268, 426], [434, 479]],\n",
       " 154: [[556, 662], [817, 848], [849, 973]],\n",
       " 155: [[574, 639]],\n",
       " 156: [[127, 184], [380, 406], [585, 628], [662, 929], [952, 1046]],\n",
       " 157: [[1082, 1136], [497, 510]],\n",
       " 158: [[42, 67],\n",
       "  [212, 254],\n",
       "  [407, 507],\n",
       "  [719, 775],\n",
       "  [891, 961],\n",
       "  [1017, 1113],\n",
       "  [1159, 1253]],\n",
       " 159: [[230, 290], [334, 396], [837, 927], [1629, 1689]],\n",
       " 160: [[597, 608]],\n",
       " 161: [[631, 652], [683, 710], [1419, 1437]],\n",
       " 162: [[84, 124], [398, 501]],\n",
       " 163: [[49, 114], [309, 341], [436, 465], [1303, 1336]],\n",
       " 164: [[29, 67], [644, 701]],\n",
       " 165: [[66, 131], [536, 659], [896, 1159], [2233, 2298]],\n",
       " 166: [[55, 76], [101, 121], [308, 388]],\n",
       " 167: [[354, 398]],\n",
       " 168: [[435, 563]],\n",
       " 169: [[299, 350]],\n",
       " 170: [[39, 83], [420, 498], [348, 392], [1250, 1293], [1345, 1388]],\n",
       " 171: [[325, 348], [349, 440]],\n",
       " 172: [[75, 123], [276, 326], [779, 841]],\n",
       " 173: [[94, 110], [594, 635]],\n",
       " 174: [[19, 57], [493, 559]],\n",
       " 175: [[1095, 1127]],\n",
       " 176: [[93, 107], [123, 137], [575, 591]],\n",
       " 177: [[428, 452], [474, 523]],\n",
       " 178: [[0, 88], [88, 357], [357, 879], [879, 1379], [1379, 1673]],\n",
       " 179: [[62, 116], [991, 1075], [1913, 1991]],\n",
       " 180: [[217, 222], [607, 640]],\n",
       " 181: [[15, 40], [440, 500], [340, 431]],\n",
       " 182: [[444, 535]],\n",
       " 183: [[58, 120], [203, 241], [279, 317], [587, 631], [1564, 1669]],\n",
       " 184: [[378, 422], [985, 1115]],\n",
       " 185: [[775, 805], [848, 880]],\n",
       " 186: [[595, 643],\n",
       "  [644, 667],\n",
       "  [748, 771],\n",
       "  [918, 935],\n",
       "  [0, 63],\n",
       "  [387, 420],\n",
       "  [436, 480],\n",
       "  [538, 573]],\n",
       " 187: [[47, 101], [395, 445]],\n",
       " 188: [[134, 165], [479, 549]],\n",
       " 189: [[37, 75], [162, 205], [396, 465], [598, 683], [938, 960]],\n",
       " 190: [[812, 850]]}"
      ]
     },
     "execution_count": 33,
     "metadata": {},
     "output_type": "execute_result"
    }
   ],
   "source": [
    "random"
   ]
  },
  {
   "cell_type": "code",
   "execution_count": 34,
   "metadata": {},
   "outputs": [
    {
     "ename": "NameError",
     "evalue": "name 'baseline' is not defined",
     "output_type": "error",
     "traceback": [
      "\u001b[0;31m---------------------------------------------------------------------------\u001b[0m",
      "\u001b[0;31mNameError\u001b[0m                                 Traceback (most recent call last)",
      "\u001b[0;32m<ipython-input-34-6c0a6e3bc845>\u001b[0m in \u001b[0;36m<module>\u001b[0;34m()\u001b[0m\n\u001b[0;32m----> 1\u001b[0;31m \u001b[0mbaseline\u001b[0m\u001b[0;34m\u001b[0m\u001b[0m\n\u001b[0m",
      "\u001b[0;31mNameError\u001b[0m: name 'baseline' is not defined"
     ]
    }
   ],
   "source": [
    "baseline"
   ]
  },
  {
   "cell_type": "code",
   "execution_count": null,
   "metadata": {},
   "outputs": [],
   "source": [
    "model"
   ]
  },
  {
   "cell_type": "code",
   "execution_count": null,
   "metadata": {},
   "outputs": [],
   "source": [
    "gold_labels"
   ]
  },
  {
   "cell_type": "code",
   "execution_count": null,
   "metadata": {},
   "outputs": [],
   "source": [
    "def compare(d1, d2, g):\n",
    "    result = {}\n",
    "    for key, value in d1.items():\n",
    "        result[str(key)+\"A\"] = value\n",
    "    for key, value in d2.items():\n",
    "        result[str(key)+\"B\"] = value\n",
    "    for key, value in g.items():\n",
    "        result[str(key)+\"G\"] = value\n",
    "    for key in sorted(result):\n",
    "        print(key, result[key])"
   ]
  },
  {
   "cell_type": "code",
   "execution_count": null,
   "metadata": {},
   "outputs": [],
   "source": [
    "experiments.eval_preds(model_agg, model_agg50, gold_labels, eval_f1, True)"
   ]
  },
  {
   "cell_type": "code",
   "execution_count": null,
   "metadata": {},
   "outputs": [],
   "source": []
  }
 ],
 "metadata": {
  "kernelspec": {
   "display_name": "Python 3",
   "language": "python",
   "name": "python3"
  },
  "language_info": {
   "codemirror_mode": {
    "name": "ipython",
    "version": 3
   },
   "file_extension": ".py",
   "mimetype": "text/x-python",
   "name": "python",
   "nbconvert_exporter": "python",
   "pygments_lexer": "ipython3",
   "version": "3.6.5"
  }
 },
 "nbformat": 4,
 "nbformat_minor": 2
}
